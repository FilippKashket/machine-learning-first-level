{
 "cells": [
  {
   "cell_type": "code",
   "execution_count": 5,
   "metadata": {},
   "outputs": [
    {
     "data": {
      "image/png": "[encoded data removed]",
      "text/plain": [
       "<Figure size 432x288 with 1 Axes>"
      ]
     },
     "metadata": {
      "needs_background": "light"
     },
     "output_type": "display_data"
    }
   ],
   "source": [
    "import numpy as np\n",
    "import matplotlib.pyplot as plt\n",
    "import pickle\n",
    "%matplotlib inline\n",
    "\n",
    "with open('eigen.pkl', 'rb') as f:\n",
    "    X = pickle.load(f)\n",
    "    \n",
    "plt.plot(X[:,0], X[:,1], 'x')\n",
    "plt.axis('equal')\n",
    "plt.show()"
   ]
  },
  {
   "cell_type": "code",
   "execution_count": 6,
   "metadata": {},
   "outputs": [
    {
     "data": {
      "text/plain": [
       "array([2.        , 3.72384175])"
      ]
     },
     "execution_count": 6,
     "metadata": {},
     "output_type": "execute_result"
    }
   ],
   "source": [
    "mean_val = X.mean(axis=0)\n",
    "mean_val"
   ]
  },
  {
   "cell_type": "code",
   "execution_count": 7,
   "metadata": {},
   "outputs": [
    {
     "data": {
      "text/plain": [
       "50"
      ]
     },
     "execution_count": 7,
     "metadata": {},
     "output_type": "execute_result"
    }
   ],
   "source": [
    "N = X.shape[0]\n",
    "N"
   ]
  },
  {
   "cell_type": "code",
   "execution_count": 8,
   "metadata": {},
   "outputs": [
    {
     "data": {
      "text/plain": [
       "array([[-5.        , -2.57641926],\n",
       "       [-4.79591837, -0.80537034],\n",
       "       [-4.59183673, -3.77593421],\n",
       "       [-4.3877551 , -6.93656366],\n",
       "       [-4.18367347, -1.81203199],\n",
       "       [-3.97959184, -1.58026031],\n",
       "       [-3.7755102 , -2.19158187],\n",
       "       [-3.57142857, -1.96956883],\n",
       "       [-3.36734694, -4.58683833],\n",
       "       [-3.16326531, -1.38553735]])"
      ]
     },
     "execution_count": 8,
     "metadata": {},
     "output_type": "execute_result"
    }
   ],
   "source": [
    "# Центрируем датасет\n",
    "X_centered = X.copy()-mean_val\n",
    "X_centered[:10]"
   ]
  },
  {
   "cell_type": "code",
   "execution_count": 9,
   "metadata": {},
   "outputs": [
    {
     "data": {
      "image/png": "[encoded data removed]",
      "text/plain": [
       "<Figure size 432x288 with 1 Axes>"
      ]
     },
     "metadata": {
      "needs_background": "light"
     },
     "output_type": "display_data"
    }
   ],
   "source": [
    "plt.plot(X_centered[:,0], X_centered[:,1], 'x')\n",
    "plt.axis('equal')\n",
    "plt.show()"
   ]
  },
  {
   "cell_type": "code",
   "execution_count": 10,
   "metadata": {},
   "outputs": [
    {
     "data": {
      "text/plain": [
       "array([[8.85047897, 6.81117445],\n",
       "       [6.81117445, 9.95969352]])"
      ]
     },
     "execution_count": 10,
     "metadata": {},
     "output_type": "execute_result"
    }
   ],
   "source": [
    "X_cov = X_centered.T.dot(X_centered)/(N-1)\n",
    "X_cov"
   ]
  },
  {
   "cell_type": "code",
   "execution_count": 11,
   "metadata": {},
   "outputs": [
    {
     "name": "stdout",
     "output_type": "stream",
     "text": [
      "Ковариационная матрица из numpy:\n",
      "[[8.85047897 6.81117445]\n",
      " [6.81117445 9.95969352]]\n",
      "\n"
     ]
    }
   ],
   "source": [
    "# готовая реализация из numpy\n",
    "print(\"Ковариационная матрица из numpy:\\n{}\\n\".format(\n",
    "    np.cov(X_centered, rowvar=0))\n",
    ")"
   ]
  },
  {
   "cell_type": "code",
   "execution_count": 12,
   "metadata": {},
   "outputs": [],
   "source": [
    "from numpy import linalg"
   ]
  },
  {
   "cell_type": "code",
   "execution_count": 14,
   "metadata": {},
   "outputs": [
    {
     "name": "stdout",
     "output_type": "stream",
     "text": [
      "lambda_0 =2.57136935073713, w = [-0.7352406   0.67780621]\n",
      "lambda_1 =16.238803136510406, w = [-0.67780621 -0.7352406 ]\n",
      "\n"
     ]
    }
   ],
   "source": [
    "eigenvalues, eigenvectors = linalg.eig(X_cov)\n",
    "print(''.join(\n",
    "    'lambda_{} ={}, w = {}\\n'.format(eig_id,eigenvalues[eig_id], eigenvectors[:,eig_id]) \n",
    "    for eig_id in range(eigenvalues.size))\n",
    ")"
   ]
  },
  {
   "cell_type": "code",
   "execution_count": 16,
   "metadata": {},
   "outputs": [
    {
     "data": {
      "text/plain": [
       "[<matplotlib.lines.Line2D at 0x2bf97577470>]"
      ]
     },
     "execution_count": 16,
     "metadata": {},
     "output_type": "execute_result"
    },
    {
     "data": {
      "image/png": "[encoded data removed]",
      "text/plain": [
       "<Figure size 432x288 with 1 Axes>"
      ]
     },
     "metadata": {
      "needs_background": "light"
     },
     "output_type": "display_data"
    }
   ],
   "source": [
    "import matplotlib.pyplot as plt\n",
    "\n",
    "origin = X_centered.mean(axis=0) # начало координат\n",
    "\n",
    "plt.quiver(\n",
    "    *origin, *eigenvectors.T,\n",
    "    color=['r','b','g'],\n",
    "    scale=eigenvalues)\n",
    "\n",
    "plt.plot(\n",
    "    X_centered[:,0],\n",
    "    X_centered[:,1], 'x'\n",
    ")"
   ]
  },
  {
   "cell_type": "code",
   "execution_count": 20,
   "metadata": {},
   "outputs": [],
   "source": [
    "max_eigenval = np.argmax(eigenvalues)\n",
    "max_eigenvec = eigenvectors[:,max_eigenval].reshape(-1,1)"
   ]
  },
  {
   "cell_type": "code",
   "execution_count": 24,
   "metadata": {},
   "outputs": [
    {
     "data": {
      "text/plain": [
       "[<matplotlib.lines.Line2D at 0x2bf9c64cef0>]"
      ]
     },
     "execution_count": 24,
     "metadata": {},
     "output_type": "execute_result"
    },
    {
     "data": {
      "image/png": "[encoded data removed]",
      "text/plain": [
       "<Figure size 432x288 with 1 Axes>"
      ]
     },
     "metadata": {
      "needs_background": "light"
     },
     "output_type": "display_data"
    }
   ],
   "source": [
    "X_redused = X.dot(max_eigenvec)\n",
    "\n",
    "plt.plot(\n",
    "    X_redused,\n",
    "    np.zeros(N), 'x'\n",
    ")"
   ]
  },
  {
   "cell_type": "code",
   "execution_count": 26,
   "metadata": {},
   "outputs": [
    {
     "data": {
      "text/plain": [
       "[<matplotlib.lines.Line2D at 0x2bf9c5a0a90>]"
      ]
     },
     "execution_count": 26,
     "metadata": {},
     "output_type": "execute_result"
    },
    {
     "data": {
      "image/png": "[encoded data removed]",
      "text/plain": [
       "<Figure size 432x288 with 1 Axes>"
      ]
     },
     "metadata": {
      "needs_background": "light"
     },
     "output_type": "display_data"
    }
   ],
   "source": [
    "X_inverse = X_redused.dot(max_eigenvec.reshape(1,-1))\n",
    "\n",
    "plt.plot(\n",
    "    X_inverse[:,0],\n",
    "    X_inverse[:,1], 'x'\n",
    ")"
   ]
  }
 ],
 "metadata": {
  "kernelspec": {
   "display_name": "Python 3",
   "language": "python",
   "name": "python3"
  },
  "language_info": {
   "codemirror_mode": {
    "name": "ipython",
    "version": 3
   },
   "file_extension": ".py",
   "mimetype": "text/x-python",
   "name": "python",
   "nbconvert_exporter": "python",
   "pygments_lexer": "ipython3",
   "version": "3.7.3"
  }
 },
 "nbformat": 4,
 "nbformat_minor": 2
}
