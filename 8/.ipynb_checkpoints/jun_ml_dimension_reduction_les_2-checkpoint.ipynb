{
 "cells": [
  {
   "cell_type": "markdown",
   "metadata": {
    "colab_type": "text",
    "id": "6yPQbjwOQrum"
   },
   "source": [
    "# Урок 2. Применение PCA для снижения размерности.\n",
    "\n",
    "\n",
    "В этом уроке мы воспользуемся для задачи снижения размерности готовым в sklearn алгоритмом PCA. Загрузим датасет для экспериментов:"
   ]
  },
  {
   "cell_type": "code",
   "execution_count": 0,
   "metadata": {
    "colab": {},
    "colab_type": "code",
    "id": "7-yH3xCfQruw",
    "outputId": "7e5e8f6e-0986-43a2-f2f4-00c89f30beba"
   },
   "outputs": [
    {
     "data": {
      "image/png": "[encoded data removed]",
      "text/plain": [
       "<Figure size 432x288 with 1 Axes>"
      ]
     },
     "metadata": {
      "needs_background": "light",
      "tags": []
     },
     "output_type": "display_data"
    }
   ],
   "source": [
    "import numpy as np\n",
    "import matplotlib.pyplot as plt\n",
    "import pickle\n",
    "%matplotlib inline\n",
    "\n",
    "with open('./data/eigen.pkl', 'rb') as f:\n",
    "    X = pickle.load(f)\n",
    "\n",
    "plt.plot(X[:,0], X[:,1], 'x')\n",
    "plt.axis('equal')\n",
    "plt.show()"
   ]
  },
  {
   "cell_type": "markdown",
   "metadata": {
    "colab_type": "text",
    "id": "07YRzUZHQru_"
   },
   "source": [
    "Применяем алгоритм `sklearn.decomposition.PCA` к набору данных:"
   ]
  },
  {
   "cell_type": "code",
   "execution_count": 0,
   "metadata": {
    "colab": {},
    "colab_type": "code",
    "id": "tcM4JhXzQrvB",
    "outputId": "0ee255df-f591-430c-a718-28f45c16e247"
   },
   "outputs": [
    {
     "data": {
      "text/plain": [
       "array([[5.28331909],\n",
       "       [3.84284422],\n",
       "       [5.88859559],\n",
       "       [8.07409089],\n",
       "       [4.16799935],\n",
       "       [3.8592636 ],\n",
       "       [4.17040423],\n",
       "       [3.86884344],\n",
       "       [5.65483844],\n",
       "       [3.16278418]])"
      ]
     },
     "execution_count": 204,
     "metadata": {
      "tags": []
     },
     "output_type": "execute_result"
    }
   ],
   "source": [
    "from sklearn.decomposition import PCA\n",
    "\n",
    "pca = PCA(n_components=1).fit(X)\n",
    "X_pca = pca.transform(X)\n",
    "X_pca[:10]"
   ]
  },
  {
   "cell_type": "markdown",
   "metadata": {
    "colab_type": "text",
    "id": "9WY-jvqYQrvG"
   },
   "source": [
    "Мы сжали с помощью PCA двумерные данные в одномерный массив. \n",
    "\n",
    "![pca_arrays](https://248006.selcdn.ru/public/DS.%20Block%202.%20M8/pca_arrays.png)"
   ]
  },
  {
   "cell_type": "markdown",
   "metadata": {
    "colab_type": "text",
    "id": "3lTpnjPoQrvH"
   },
   "source": [
    "Давайте визуализируем этот массив - для этого надо произвести обратное преобразование из одномерного массива в двумерный. Отобразим \"восстановленные\" данные на графике (вторая картинка - исходный, несжатый массив):"
   ]
  },
  {
   "cell_type": "code",
   "execution_count": 0,
   "metadata": {
    "colab": {},
    "colab_type": "code",
    "id": "kSKchkkgQrvK",
    "outputId": "19586da3-72d7-43db-8b8e-c900af580b27"
   },
   "outputs": [
    {
     "data": {
      "image/png": "[encoded data removed]",
      "text/plain": [
       "<Figure size 432x288 with 2 Axes>"
      ]
     },
     "metadata": {
      "needs_background": "light",
      "tags": []
     },
     "output_type": "display_data"
    }
   ],
   "source": [
    "X_new = pca.inverse_transform(X_pca)\n",
    "\n",
    "plt.figure(1)\n",
    "plt.subplot(211)\n",
    "plt.plot(X_new[:,0], X_new[:,1], 'x')\n",
    "\n",
    "plt.subplot(212)\n",
    "plt.plot(X[:,0], X[:,1], 'o')\n",
    "plt.show()"
   ]
  },
  {
   "cell_type": "markdown",
   "metadata": {
    "colab_type": "text",
    "id": "h7yB0B5uQrvR"
   },
   "source": [
    "Алгоритм PCA выявил, что переменная от $x_2$ линейным образом зависит от переменной $x_1$ - то есть вместо переменной $x_2$ можно использовать линейное преобразование $x_2 = x_1w_1 + w_0$ (эта переменная на первом графике). \"Сжатые данные\" представляют собой график линейной функции $x_2 = ax_1 + b$. \n",
    "\n",
    "Данные, представляли собой облако точек, но алгоритм PCA ужал их до одномерного случая. Другие интересные визуализации можно [глянуть по ссылке](https://jakevdp.github.io/PythonDataScienceHandbook/05.09-principal-component-analysis.html)"
   ]
  },
  {
   "cell_type": "markdown",
   "metadata": {
    "colab_type": "text",
    "id": "QiYjYJcyQrvT"
   },
   "source": [
    "Как применять этот алгоритм на практике? PCA можно применить к любым данным, но как определить, что вам *действительно* нужно сжимать размерность?\n",
    "\n",
    "* обучаете свой алгоритм (например, линейную регрессию) на исходных данных и вычисляете качество решения по RMSE (например)\n",
    "* сжимаете данные с помощью PCA\n",
    "* снова обучаете линейную регрессию с теми же параметрами, проверяете качество решения RMSE. Если качество выросло - PCA сжал данные \"правильно\", пропали шумы. Если качество уменьшилось - PCA сказывается негативно, вместо убирания шумов вы теряете часть информации"
   ]
  },
  {
   "cell_type": "markdown",
   "metadata": {
    "colab_type": "text",
    "id": "Tpxz3u6sQrvV"
   },
   "source": [
    "Остался один интересный вопрос: как подобрать, сколько главных компонент оставить? Воспользуйтесь процедурой GridSearch, с которой вы уже сталкивались в уроке про линейную регрессию: компонент нужно оставить столько, чтобы качество вашего алгоритма на отложенной выборке было максимальным.\n",
    "\n",
    "Ну и еще скажу, что существует один подводный камень в PCA: плохо работает, когда переменные в разных масштабах, например: количество минут пользователя на сервисе (live time) и цена, которую он платит за подписку - цена намного меньше по абсолютным значением, чем количество минут. Выход: выполнять *Z-преобразование* переменных, с которым мы познакомились в уроке про линейную регрессию."
   ]
  }
 ],
 "metadata": {
  "colab": {
   "name": "jun_ml_dimension_reduction_les-2.ipynb",
   "provenance": []
  },
  "kernelspec": {
   "display_name": "Python 3",
   "language": "python",
   "name": "python3"
  },
  "language_info": {
   "codemirror_mode": {
    "name": "ipython",
    "version": 3
   },
   "file_extension": ".py",
   "mimetype": "text/x-python",
   "name": "python",
   "nbconvert_exporter": "python",
   "pygments_lexer": "ipython3",
   "version": "3.7.3"
  }
 },
 "nbformat": 4,
 "nbformat_minor": 1
}
