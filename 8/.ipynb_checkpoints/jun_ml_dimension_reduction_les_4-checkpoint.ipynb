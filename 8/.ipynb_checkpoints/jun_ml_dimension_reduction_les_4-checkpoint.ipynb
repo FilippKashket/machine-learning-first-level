{
 "cells": [
  {
   "cell_type": "markdown",
   "metadata": {
    "colab_type": "text",
    "id": "_rw_f9_flpbd"
   },
   "source": [
    "# Урок 4.  SVD преобразование\n",
    "\n",
    "SVD (Singular Value Decompozition) - это метод, который пришёл в машинное обучение из линейной алгебры. Этот метод применяется для снижения размерности так же, как PCA.\n",
    "\n",
    "Зачем нужен ещё один алгоритм? Пирсон придумал PCA очень давно и алгоритм для снижения размерности работает с ковариационной матрицей (см. Урок 3) - это слишком сложно по вычислениям и отвратительно работает на больших объёмах данных (просто медленно). Алгоритм SVD был придуман после Пирсона, когда компьютеры стали быстрее и появилась возможность перейти от точных методов к численным, вроде градиентного спуска с которым вы уже знакомы (подробнее про численный алгоритм SVD можно почитать [в этой лекции в разделе \"Наивный алгоритм SVD\"](http://strijov.com/files/eksamen/l_svd.pdf) - но осторожно, там много математики). Понимайте алгоритм SVD более применимую для больших данных версию PCA. Если размерность матрицы небольшая (до 100 фичей) - применяйте PCA, иначе SVD."
   ]
  },
  {
   "cell_type": "markdown",
   "metadata": {
    "colab_type": "text",
    "id": "QaPSvgsSlpbh"
   },
   "source": [
    "Суть метода состоит в том, что любую прямоугольную матрицу $X$ (у нас это матрица объекты-признаки) размерности $m\\times n$ можно представить в виде произведения трёх матриц разной размерности (двух квадратных и прямоугольной в середине):\n",
    "$$\n",
    "X = USV^T\n",
    "$$\n",
    "\n",
    "где \n",
    "\n",
    "* $U$ размерности $m\\times m$\n",
    "* $S$ размерности $m\\times n$, диагональная матрица, на диагонали стоят собственные числа матрицы $X^TX$ (мы говорили о них у уроке 3)\n",
    "* $V$ размерности $n\\times n$\n",
    "\n",
    "Такое разложение одной матрицы на три [называется сингулярным](http://www.machinelearning.ru/wiki/index.php?title=Сингулярное_разложение ). Этот метод реализован в библиотеке *numpy*, применить его нужно будет в рамках домашнего задания"
   ]
  },
  {
   "cell_type": "markdown",
   "metadata": {
    "colab_type": "text",
    "id": "RbDzKeeZlpbj"
   },
   "source": [
    "Зачем же нужно сингулярное преобразование и как применить его к задаче снижения размерности? Мы уже говорили, что матрица $S$, в центре разложения, является диагональной:\n",
    "\n",
    "$$\n",
    "E = \n",
    "\\left[\n",
    "\\begin{array}{cccccc}\n",
    "\\sigma_1 & 0 & 0 & \\ldots & 0 & 0 \\\\\n",
    "0 & \\sigma_2 & 0 &  \\ldots & 0 & 0 \\\\\n",
    "0 & 0 & \\sigma_3 & \\ldots & 0 & 0 \\\\\n",
    "\\ldots& \\ldots& \\ldots& \\ldots& \\ldots & \\ldots\\\\\n",
    "0 & 0 & \\ldots & 0 & 0 & 0 \\\\\n",
    "0 & 0 & \\ldots & 0 & 0 & 0 \\\\\n",
    "\\end{array}\n",
    "\\right]\n",
    "$$\n",
    "\n",
    "Числа  $\\sigma_1, \\sigma_2, \\ldots \\sigma_n$ на главной диагонали расположены по возрастанию. Суть SVD состоит в том, что для снижения размерности мы можем оставить как есть числа $\\sigma_1, \\sigma_2, \\ldots, \\sigma_k$ до некоторого $k<m$ и приравнять к нулю $\\sigma_{k+1}, \\sigma_{k+2},\\ldots, \\sigma_n$.\n",
    "\n",
    "Столбы в нашей матрицы это и есть фичи, а строки - это объекты в обучающей выборке. Обнуляя элементы в центрально матрице мы как бы обнуляем некоторые фичи у некоторых объектов в исходной матрице, то есть понижаем размерность"
   ]
  },
  {
   "cell_type": "markdown",
   "metadata": {
    "colab_type": "text",
    "id": "dC3NUk3Mlpbk"
   },
   "source": [
    "Логика обнуления диагональных элементов реализована в классе [sklearn.decomposition.TruncatedSVD](https://scikit-learn.org/stable/modules/generated/sklearn.decomposition.TruncatedSVD.html). Давайте применим его для снижения размерности, как мы применяли PCA во втором уроке этого модуля"
   ]
  },
  {
   "cell_type": "code",
   "execution_count": 0,
   "metadata": {
    "colab": {},
    "colab_type": "code",
    "id": "Ca85R01llpbm",
    "outputId": "231497d8-f1a6-4a29-f02b-54836dea71f0"
   },
   "outputs": [
    {
     "data": {
      "image/png": "[encoded data removed]",
      "text/plain": [
       "<Figure size 432x288 with 1 Axes>"
      ]
     },
     "metadata": {
      "needs_background": "light",
      "tags": []
     },
     "output_type": "display_data"
    }
   ],
   "source": [
    "from sklearn.decomposition import TruncatedSVD\n",
    "import numpy as np\n",
    "import matplotlib.pyplot as plt\n",
    "%matplotlib inline\n",
    "\n",
    "with open('./data/eigen.pkl', 'rb') as f:\n",
    "    X = pickle.load(f)\n",
    "    \n",
    "plt.plot(X[:,0], X[:,1], 'x')\n",
    "plt.axis('equal')\n",
    "plt.show()"
   ]
  },
  {
   "cell_type": "markdown",
   "metadata": {
    "colab_type": "text",
    "id": "MK1BTu9_lpbv"
   },
   "source": [
    "Применяем снижение размерности с помощью SVD"
   ]
  },
  {
   "cell_type": "code",
   "execution_count": 0,
   "metadata": {
    "colab": {},
    "colab_type": "code",
    "id": "uVAxXf_hlpbw",
    "outputId": "d34773ea-5205-4727-faed-5e325e94a65d"
   },
   "outputs": [
    {
     "data": {
      "image/png": "[encoded data removed]",
      "text/plain": [
       "<Figure size 432x288 with 1 Axes>"
      ]
     },
     "metadata": {
      "needs_background": "light",
      "tags": []
     },
     "output_type": "display_data"
    }
   ],
   "source": [
    "# получаем SVD разложение\n",
    "svd_model = TruncatedSVD(n_components=1).fit(X)\n",
    "# применяем преобразование к исходным данным\n",
    "X_svd = svd_model.transform(X)\n",
    "# трансформируем данные обратно к исходному пространству\n",
    "X_svd_restored = svd_model.inverse_transform(X_svd)\n",
    "# визуализируем то, что получилось\n",
    "plt.plot(X_svd_restored[:,0], X_svd_restored[:,1], 'x')\n",
    "plt.show()"
   ]
  },
  {
   "cell_type": "markdown",
   "metadata": {
    "colab_type": "text",
    "id": "oKcvg3e0lpb5"
   },
   "source": [
    "Готово! Мы воспользовались алгоритмом снижения размерности TruncatedSVD и получили картинку, похожую на результат применения алгоритма PCA. Оба этих метода сильно похожи, про связь PCA и SVD можно [почитать тут](https://towardsdatascience.com/pca-and-svd-explained-with-numpy-5d13b0d2a4d8) [или тут](https://stats.stackexchange.com/questions/134282/relationship-between-svd-and-pca-how-to-use-svd-to-perform-pca/134283). Как понять какой из них выбрать для решения задачи?\n",
    "\n",
    "* если нужно быстро снизить количество фичей - используйте SVD\n",
    "* если дополнительно нужно избавиться от корреляции между фичами (например, для задачи линейной регрессии) - используйте PCA"
   ]
  }
 ],
 "metadata": {
  "colab": {
   "name": "jun_ml_dimension_reduction_les-4.ipynb",
   "provenance": []
  },
  "kernelspec": {
   "display_name": "Python 3",
   "language": "python",
   "name": "python3"
  },
  "language_info": {
   "codemirror_mode": {
    "name": "ipython",
    "version": 3
   },
   "file_extension": ".py",
   "mimetype": "text/x-python",
   "name": "python",
   "nbconvert_exporter": "python",
   "pygments_lexer": "ipython3",
   "version": "3.7.3"
  }
 },
 "nbformat": 4,
 "nbformat_minor": 1
}
