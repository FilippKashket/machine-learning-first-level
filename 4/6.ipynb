{
 "cells": [
  {
   "cell_type": "code",
   "execution_count": 2,
   "metadata": {},
   "outputs": [],
   "source": [
    "import pandas as pd\n",
    "import numpy as np\n",
    "data = pd.read_csv('non_linear.csv')"
   ]
  },
  {
   "cell_type": "code",
   "execution_count": 5,
   "metadata": {},
   "outputs": [],
   "source": [
    "def generate_degrees(source_data: list, degree: int):\n",
    "    \"\"\"Функция, которая принимает на вход одномерный массив, а возвращает n-мерный\n",
    "    Для каждой степени от 1 до  degree возводим x в эту степень\n",
    "    \"\"\"\n",
    "    return np.array([\n",
    "          source_data**n for n in range(1, degree + 1)  \n",
    "    ]).T"
   ]
  },
  {
   "cell_type": "code",
   "execution_count": 22,
   "metadata": {},
   "outputs": [],
   "source": [
    "from sklearn.linear_model import Ridge\n",
    "\n",
    "model_ridge = Ridge(alpha=0.01)\n",
    "model_linear = Ridge(alpha = 0)\n",
    "\n",
    "degree = 10\n",
    "\n",
    "X = generate_degrees(data.x_train, degree)\n",
    "y = data.y_train.values"
   ]
  },
  {
   "cell_type": "code",
   "execution_count": 16,
   "metadata": {},
   "outputs": [
    {
     "name": "stderr",
     "output_type": "stream",
     "text": [
      "C:\\Users\\FilippKashket\\Anaconda3\\lib\\site-packages\\sklearn\\linear_model\\ridge.py:147: LinAlgWarning: Ill-conditioned matrix (rcond=5.48967e-19): result may not be accurate.\n",
      "  overwrite_a=True).T\n",
      "C:\\Users\\FilippKashket\\Anaconda3\\lib\\site-packages\\sklearn\\linear_model\\ridge.py:147: LinAlgWarning: Ill-conditioned matrix (rcond=2.23572e-22): result may not be accurate.\n",
      "  overwrite_a=True).T\n"
     ]
    },
    {
     "data": {
      "text/plain": [
       "Ridge(alpha=0, copy_X=True, fit_intercept=True, max_iter=None, normalize=False,\n",
       "      random_state=None, solver='auto', tol=0.001)"
      ]
     },
     "execution_count": 16,
     "metadata": {},
     "output_type": "execute_result"
    }
   ],
   "source": [
    "model_ridge.fit(X, y)\n",
    "model_linear.fit(X, y)"
   ]
  },
  {
   "cell_type": "code",
   "execution_count": 17,
   "metadata": {},
   "outputs": [],
   "source": [
    "x_linspace = np.linspace(data['x_train'].min(), data['x_train'].max(), num=100)\n",
    "\n",
    "y_linspace_linear = model_linear.predict(generate_degrees(x_linspace, degree))\n",
    "y_linspace_ridge = model_ridge.predict(generate_degrees(x_linspace, degree))\n"
   ]
  },
  {
   "cell_type": "code",
   "execution_count": 20,
   "metadata": {},
   "outputs": [
    {
     "data": {
      "image/png": "[encoded data removed]",
      "text/plain": [
       "<Figure size 432x288 with 1 Axes>"
      ]
     },
     "metadata": {
      "needs_background": "light"
     },
     "output_type": "display_data"
    }
   ],
   "source": [
    "import matplotlib.pyplot as plt\n",
    "plt.plot(x_linspace , y_linspace_linear)\n",
    "plt.plot(x_linspace , y_linspace_ridge)\n",
    "plt.show()"
   ]
  },
  {
   "cell_type": "code",
   "execution_count": 21,
   "metadata": {
    "scrolled": true
   },
   "outputs": [
    {
     "name": "stdout",
     "output_type": "stream",
     "text": [
      "Норма вектора весов Ridge 1.943\n",
      "Норма вектора весов Linear 72.985\n"
     ]
    }
   ],
   "source": [
    "from numpy.linalg import norm\n",
    "print(\"Норма вектора весов Ridge %.3f\" % norm(model_ridge.coef_))\n",
    "print(\"Норма вектора весов Linear %.3f\" % norm(model_linear.coef_))"
   ]
  },
  {
   "cell_type": "code",
   "execution_count": 24,
   "metadata": {},
   "outputs": [
    {
     "name": "stdout",
     "output_type": "stream",
     "text": [
      "(40, 10) (10, 10)\n"
     ]
    }
   ],
   "source": [
    "from sklearn.model_selection import train_test_split\n",
    "X_train, X_valid, y_train, y_valid = train_test_split(X, y, test_size=0.2, random_state=42)\n",
    "print(X_train.shape, X_valid.shape)"
   ]
  },
  {
   "cell_type": "code",
   "execution_count": 28,
   "metadata": {},
   "outputs": [
    {
     "name": "stdout",
     "output_type": "stream",
     "text": [
      "alpha=0.100, rmse=0.0426,\n",
      "alpha=0.150, rmse=0.0423,\n",
      "alpha=0.350, rmse=0.0425,\n",
      "alpha=0.500, rmse=0.0430,\n",
      "alpha=0.800, rmse=0.0437,\n",
      "Best alpha=0.15, Best rmse=0.0423\n"
     ]
    },
    {
     "name": "stderr",
     "output_type": "stream",
     "text": [
      "C:\\Users\\FilippKashket\\Anaconda3\\lib\\site-packages\\sklearn\\linear_model\\ridge.py:147: LinAlgWarning: Ill-conditioned matrix (rcond=8.01094e-18): result may not be accurate.\n",
      "  overwrite_a=True).T\n",
      "C:\\Users\\FilippKashket\\Anaconda3\\lib\\site-packages\\sklearn\\linear_model\\ridge.py:147: LinAlgWarning: Ill-conditioned matrix (rcond=1.1636e-17): result may not be accurate.\n",
      "  overwrite_a=True).T\n",
      "C:\\Users\\FilippKashket\\Anaconda3\\lib\\site-packages\\sklearn\\linear_model\\ridge.py:147: LinAlgWarning: Ill-conditioned matrix (rcond=2.74011e-17): result may not be accurate.\n",
      "  overwrite_a=True).T\n",
      "C:\\Users\\FilippKashket\\Anaconda3\\lib\\site-packages\\sklearn\\linear_model\\ridge.py:147: LinAlgWarning: Ill-conditioned matrix (rcond=3.85494e-17): result may not be accurate.\n",
      "  overwrite_a=True).T\n",
      "C:\\Users\\FilippKashket\\Anaconda3\\lib\\site-packages\\sklearn\\linear_model\\ridge.py:147: LinAlgWarning: Ill-conditioned matrix (rcond=6.05148e-17): result may not be accurate.\n",
      "  overwrite_a=True).T\n"
     ]
    }
   ],
   "source": [
    "from sklearn.metrics import mean_squared_error\n",
    "alphas = [0.1, 0.15, 0.35, 0.5, 0.8]\n",
    "\n",
    "best_alpha = alphas[0]\n",
    "best_rmse = np.infty\n",
    "\n",
    "for alpha in alphas:\n",
    "    model_ridge=Ridge(alpha=alpha)\n",
    "    model_ridge.fit(X_train, y_train)\n",
    "    y_pred = model_ridge.predict(X_valid)\n",
    "    error = mean_squared_error(y_valid, y_pred)\n",
    "    if error < best_rmse:\n",
    "        best_rmse = error\n",
    "        best_alpha = alpha\n",
    "    print(\"alpha=%.3f, rmse=%.4f,\" %(alpha, error)) \n",
    "\n",
    "print(\"Best alpha=%.2f, Best rmse=%.4f\" %(best_alpha, best_rmse))"
   ]
  }
 ],
 "metadata": {
  "kernelspec": {
   "display_name": "Python 3",
   "language": "python",
   "name": "python3"
  },
  "language_info": {
   "codemirror_mode": {
    "name": "ipython",
    "version": 3
   },
   "file_extension": ".py",
   "mimetype": "text/x-python",
   "name": "python",
   "nbconvert_exporter": "python",
   "pygments_lexer": "ipython3",
   "version": "3.7.3"
  }
 },
 "nbformat": 4,
 "nbformat_minor": 2
}
