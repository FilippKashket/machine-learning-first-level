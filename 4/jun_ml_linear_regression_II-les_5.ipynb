{
 "cells": [
  {
   "cell_type": "markdown",
   "metadata": {
    "slideshow": {
     "slide_type": "slide"
    }
   },
   "source": [
    "# Урок 5. Математическая магия градиентного спуска (дополнительный модуль)\n",
    "\n",
    "**ДИСКЛЕЙМЕР** это необязательный модуль. Тут очень много формул, много Python и много математики. Посмотрите его для ознакомления, позапускайте код. Но если ничего непонятно - не расстраивайтесь! На усвоение курса этот модули никак не влияет.\n",
    "\n",
    "\"Маленькие шажки\", которыми мы двигаемся к оптимальному решению в виде формулы выглядят следующим образом:\n",
    "$$\n",
    "w^{k+1} = w^k - \\eta\\nabla L(w)\n",
    "$$\n",
    "Переменная $\\eta$ в формуле - т.н. *шаг градиентного спуска*.\n",
    "\n",
    "Где $\\nabla L(w)$ - вектор градиента функции. Этот вектор обладает следующими свойствами: \n",
    "\n",
    "* имеет размерность вектора параметров. Если два параметра $[w_1,w_0]$ - в векторе будет два элемента\n",
    "* элемент градиента под номером $i$ - это частная производная (вспоминаем математику за 11 класс и [смотрим в Википедию](https://ru.wikipedia.org/wiki/Производная_функции ) ) функции потерь $L(y, w)$ по параметру $w_i$"
   ]
  },
  {
   "cell_type": "markdown",
   "metadata": {
    "slideshow": {
     "slide_type": "slide"
    }
   },
   "source": [
    "Вектор антиградиента всегда направлен в сторону уменьшения функции - в этом и есть всё волшебство! Мы будем двигаться в сторону минимума функции ошибки, потому что знаем как туда попасть - надо следовать по антиградиенту.\n",
    "\n",
    "На картинке одномерный случай. Синяя стрелка - градиент, красная - антиградиент. Видно, что если двигаться по вектору антиградиента, то свалимся в минимум функции за конечное число шагов\n",
    "![grad_vector](https://248006.selcdn.ru/public/Data-science-3/img/grad_vector.png)"
   ]
  },
  {
   "cell_type": "markdown",
   "metadata": {
    "slideshow": {
     "slide_type": "slide"
    }
   },
   "source": [
    "Алгоритм визуально выглядит довольно интуитивно - (1) у тебя есть вектор-стрелочка (2) шагай по стрелочке, пока не попадёшь на дно \"оврага\", который представляет собой целевую функцию . В трёхмерном случае оптимальное значение функции находится в центре концентрицеских эллипсов (эллипс - проекция трёхмерной фигуры функции потерь на плоскость):\n",
    "\n",
    "![grad_descent](https://248006.selcdn.ru/public/Data-science-3/img/grad_descent_intuit.png)"
   ]
  },
  {
   "cell_type": "markdown",
   "metadata": {
    "slideshow": {
     "slide_type": "slide"
    }
   },
   "source": [
    "Как туда добраться, двигаясь маленькими шажками?\n",
    "\n",
    "1. Стартуем алгоритм в случайной начальной точке $x^0$  \n",
    "1. Вычисляем направление антиградиента $-f'(x^0)$\n",
    "1. Перемещаемся по направлению градиента в точку $x^1 = x^0 - \\eta f'(x^0)$\n",
    "1. Повторяем шаги (1-3) для попадания в точку $x^2$\n",
    "1. $\\ldots$\n",
    "1. Profit! Достигли оптимальной точки $x^*$\n",
    "\n",
    "Алгоритм выше - универсальный, он позволяет найти точку минимума любой функции $f(x)$. А как же нам найти минимум функции качества линейной регрессии $L$?"
   ]
  },
  {
   "cell_type": "markdown",
   "metadata": {
    "slideshow": {
     "slide_type": "slide"
    }
   },
   "source": [
    "Чтобы реализовать алгоритм градиентного спуска, выпишем частные прозводные функции качества линейной регрессии $L$ для параметров $\\overline{w} = [w_1,\\ldots,w_m]$ в простейшем случае $n=1$, то есть для одного обучающего примера (одного наблюдения):\n",
    "$$\n",
    "\\left\\{\n",
    "\\begin{array}{cc}\n",
    "\\frac{\\partial L}{\\partial w_0} = 2\\cdot(-1)\\cdot1\\cdot (y_1 - (w_0x_0^1 + \\ldots+w_mx_m^1)) &\\\\\n",
    "\\frac{\\partial L}{\\partial w_k} = 2\\cdot(-1)\\cdot x_1^1 \\cdot (y_1 - (w_0x_0^1 + \\ldots+w_mx_m^1)) &  k\\neq 0\\\\\n",
    "\\end{array}\n",
    "\\right.\n",
    "$$\n",
    "\n",
    "В формуле все обозначения вам известны\n",
    "\n",
    "* $w_0, \\ldots, w_m$ - коэффициенты линейной регрессиии $m$ - количество фичей\n",
    "* $x_0, \\ldots, x_m$ - фичи."
   ]
  },
  {
   "cell_type": "markdown",
   "metadata": {
    "slideshow": {
     "slide_type": "slide"
    }
   },
   "source": [
    "Эту формулу с частными производными можно легко обобщить на случай, когда в обучающей выборке не один объект, а $n$ - просто добавляем сумму по всем объектам от 1 до $n$:\n",
    "$$\n",
    "\\left\\{\n",
    "\\begin{array}{cc}\n",
    "\\frac{\\partial L}{\\partial w_0} = \\frac{2}{n}\\cdot(-1)\\cdot \\sum_{i=1}^{n} 1\\cdot \\left(y_i - \\sum_{j=1}^{m}w_jx_j^i\\right) &\\\\\n",
    "\\frac{\\partial L}{\\partial w_k} = \\frac{2}{n}\\cdot(-1)\\cdot \\sum_{i=1}^{n} x_k^i \\cdot\\left(y_i - \\sum_{j=1}^{m}w_jx_j^i\\right) & k\\neq 0 \\\\\n",
    "\\end{array}\n",
    "\\right.\n",
    "$$\n",
    "\n",
    "Что значат переменные в этой формуле?\n",
    "* $n$ - число точек в обучающей выборке\n",
    "* $m$ - число фичей в датасете\n",
    "* $k$ - номер коэффициента в списке параметров линейной регрессии $w = [w_0,\\ldots,w_m]$\n",
    "* $y_i$ - значение целевой переменной на объекте обучающей выборки под номером $i$\n",
    "* $x_j^i$ - значение фичи под номером $j$ на объекте обучающей выборки под номером $i$\n",
    "\n",
    "\n",
    "**ВНИМАНИЕ** я выписал эти формулы в тетрадке, потому что знаю как искать производную. Это знание выходит за пределы курса. Слушателю не нужно знать, как они получаются, но если очень хочется - можно посмотреть видео на ютубе: https://www.youtube.com/watch?v=sDv4f4s2SB8"
   ]
  },
  {
   "cell_type": "markdown",
   "metadata": {
    "slideshow": {
     "slide_type": "slide"
    }
   },
   "source": [
    "Алгоритм градиентного спуска следующий:\n",
    "\n",
    "1. Вычислить градиент $\\nabla L(w)$\n",
    "1. Вычислить новый вектор  $w^{k+1} = w^k - \\eta\\nabla L(w)$\n",
    "1. Повторять пункты до тех пор, пока $w^{k+1}$ и $w^{k}$ не сойдутся вместе, то есть вектор весов перестанет обновляться\n",
    "\n",
    "Чтобы лучше понять этот метод, давайте реализуем его \"с нуля\" на языке Python"
   ]
  },
  {
   "cell_type": "markdown",
   "metadata": {
    "slideshow": {
     "slide_type": "slide"
    }
   },
   "source": [
    "Загружаем датасет из приложенного csv"
   ]
  },
  {
   "cell_type": "code",
   "execution_count": 51,
   "metadata": {
    "slideshow": {
     "slide_type": "fragment"
    }
   },
   "outputs": [
    {
     "data": {
      "text/html": [
       "<div>\n",
       "<style scoped>\n",
       "    .dataframe tbody tr th:only-of-type {\n",
       "        vertical-align: middle;\n",
       "    }\n",
       "\n",
       "    .dataframe tbody tr th {\n",
       "        vertical-align: top;\n",
       "    }\n",
       "\n",
       "    .dataframe thead th {\n",
       "        text-align: right;\n",
       "    }\n",
       "</style>\n",
       "<table border=\"1\" class=\"dataframe\">\n",
       "  <thead>\n",
       "    <tr style=\"text-align: right;\">\n",
       "      <th></th>\n",
       "      <th>x_train</th>\n",
       "      <th>y_train</th>\n",
       "    </tr>\n",
       "  </thead>\n",
       "  <tbody>\n",
       "    <tr>\n",
       "      <th>5</th>\n",
       "      <td>1.182421</td>\n",
       "      <td>1.860341</td>\n",
       "    </tr>\n",
       "    <tr>\n",
       "      <th>6</th>\n",
       "      <td>1.251605</td>\n",
       "      <td>1.878928</td>\n",
       "    </tr>\n",
       "    <tr>\n",
       "      <th>7</th>\n",
       "      <td>1.270474</td>\n",
       "      <td>2.430015</td>\n",
       "    </tr>\n",
       "    <tr>\n",
       "      <th>8</th>\n",
       "      <td>1.402553</td>\n",
       "      <td>2.327856</td>\n",
       "    </tr>\n",
       "    <tr>\n",
       "      <th>9</th>\n",
       "      <td>1.427711</td>\n",
       "      <td>2.203649</td>\n",
       "    </tr>\n",
       "  </tbody>\n",
       "</table>\n",
       "</div>"
      ],
      "text/plain": [
       "    x_train   y_train\n",
       "5  1.182421  1.860341\n",
       "6  1.251605  1.878928\n",
       "7  1.270474  2.430015\n",
       "8  1.402553  2.327856\n",
       "9  1.427711  2.203649"
      ]
     },
     "execution_count": 51,
     "metadata": {},
     "output_type": "execute_result"
    }
   ],
   "source": [
    "import numpy as np\n",
    "import pandas as pd\n",
    "\n",
    "data = pd.read_csv('data/non_linear.csv', sep=',')\n",
    "data = data[(data.x_train > 1) & (data.x_train < 5)].copy()\n",
    "data.head()"
   ]
  },
  {
   "cell_type": "markdown",
   "metadata": {
    "slideshow": {
     "slide_type": "slide"
    }
   },
   "source": [
    "Отображаем точки на графике"
   ]
  },
  {
   "cell_type": "code",
   "execution_count": 52,
   "metadata": {
    "slideshow": {
     "slide_type": "fragment"
    }
   },
   "outputs": [
    {
     "data": {
      "image/png": "[encoded data removed]",
      "text/plain": [
       "<Figure size 432x288 with 1 Axes>"
      ]
     },
     "metadata": {
      "needs_background": "light"
     },
     "output_type": "display_data"
    }
   ],
   "source": [
    "import matplotlib.pyplot as plt\n",
    "%matplotlib inline\n",
    "\n",
    "# основной график\n",
    "plt.scatter(data.x_train, data.y_train, 40, 'g', 'o', alpha=0.8, label='data')\n",
    "plt.show()"
   ]
  },
  {
   "cell_type": "markdown",
   "metadata": {
    "slideshow": {
     "slide_type": "slide"
    }
   },
   "source": [
    "Реализуем метод градиентного спуска:\n",
    "\n",
    "Вычисляем градиент"
   ]
  },
  {
   "cell_type": "code",
   "execution_count": 53,
   "metadata": {
    "slideshow": {
     "slide_type": "fragment"
    }
   },
   "outputs": [],
   "source": [
    "from scipy.spatial import distance\n",
    "import numpy as np\n",
    "import matplotlib.pyplot as plt\n",
    "%matplotlib inline\n",
    "\n",
    "def gradient(X, y, w) -> np.array:\n",
    "    # количество обучающих примеров в выборке\n",
    "    n = X.shape[0]\n",
    "    # считаем прогноз\n",
    "    y_hat = X.dot(w.T)\n",
    "    # вычисляем ошибку прогноза\n",
    "    error = y - y_hat\n",
    "    # дальше pointwise перемножение - умножаем каждую из координат на ошибку\n",
    "    grad = np.multiply(X, error).sum(axis=0)*(-1.0)*2.0 / n\n",
    "    return grad, error"
   ]
  },
  {
   "cell_type": "markdown",
   "metadata": {
    "slideshow": {
     "slide_type": "slide"
    }
   },
   "source": [
    "Делаем шаг градиентного спуска"
   ]
  },
  {
   "cell_type": "code",
   "execution_count": 54,
   "metadata": {
    "slideshow": {
     "slide_type": "fragment"
    }
   },
   "outputs": [],
   "source": [
    "def eval_w_next(X, y, eta, w_current):\n",
    "    # вычисляем градиент\n",
    "    grad, error = gradient(X, y, w_current)\n",
    "    # делаем шаг градиентного спуска\n",
    "    w_next = w_current - eta*grad\n",
    "    # проверяем условие сходимости\n",
    "    weight_evolution = distance.euclidean(w_current, w_next)\n",
    "    return (w_next, weight_evolution, grad)"
   ]
  },
  {
   "cell_type": "markdown",
   "metadata": {
    "slideshow": {
     "slide_type": "slide"
    }
   },
   "source": [
    "Повторяем шаги (1,2) до сходимости"
   ]
  },
  {
   "cell_type": "code",
   "execution_count": 59,
   "metadata": {
    "slideshow": {
     "slide_type": "fragment"
    }
   },
   "outputs": [],
   "source": [
    "def gradient_descent(X: np.array, y: np.array, eta=0.01, epsilon=0.001) -> np.array:\n",
    "    m = X.shape[1] # количество фичей\n",
    "    # инициализируем рандомом веса\n",
    "    w = np.random.random(m).reshape(1, -1)\n",
    "    w_next, weight_evolution, grad = eval_w_next(X, y, eta, w)\n",
    "    step = 0\n",
    "    # повторяем до сходимости вектора весов\n",
    "    while weight_evolution > epsilon:\n",
    "        w = w_next\n",
    "        w_next, weight_evolution, grad = eval_w_next(X, y, eta, w)\n",
    "        step += 1\n",
    "        if step % 100 ==0:\n",
    "            print(\"step %s |w-w_next|=%.5f, grad=%s\" % (step, weight_evolution, grad))\n",
    "    return w"
   ]
  },
  {
   "cell_type": "markdown",
   "metadata": {
    "slideshow": {
     "slide_type": "slide"
    }
   },
   "source": [
    "Запускаем обучение"
   ]
  },
  {
   "cell_type": "code",
   "execution_count": 60,
   "metadata": {
    "slideshow": {
     "slide_type": "fragment"
    }
   },
   "outputs": [
    {
     "name": "stdout",
     "output_type": "stream",
     "text": [
      "step 100 |w-w_next|=0.00434, grad=[-0.52129816  0.15059269]\n",
      "step 200 |w-w_next|=0.00357, grad=[-0.42898971  0.12392659]\n",
      "step 300 |w-w_next|=0.00294, grad=[-0.3530267   0.10198239]\n",
      "step 400 |w-w_next|=0.00242, grad=[-0.29051478  0.08392394]\n",
      "step 500 |w-w_next|=0.00199, grad=[-0.23907211  0.06906318]\n",
      "step 600 |w-w_next|=0.00164, grad=[-0.19673861  0.05683387]\n",
      "step 700 |w-w_next|=0.00135, grad=[-0.16190128  0.04677006]\n",
      "step 800 |w-w_next|=0.00111, grad=[-0.13323274  0.03848829]\n"
     ]
    }
   ],
   "source": [
    "# трансформируем плоский массив X в вектор-столбец\n",
    "X = data['x_train'].values.reshape(-1, 1)\n",
    "n = X.shape[0]\n",
    "# добавляем тривиальный признак w_0, столбец из единиц. См. прошлый урок, почему так\n",
    "X = np.hstack([\n",
    "    np.ones(n).reshape(-1,1),\n",
    "    X\n",
    "])\n",
    "w = gradient_descent(X, data['y_train'].values.reshape(-1, 1), eta=0.008)"
   ]
  },
  {
   "cell_type": "markdown",
   "metadata": {
    "slideshow": {
     "slide_type": "slide"
    }
   },
   "source": [
    "У нас произошло несколько сотен итераций, на каждой итерации мы:\n",
    "* вычисляем вектор весов\n",
    "* смотрим расстояние между новым вектором весов и векторов весов с предыдущего шага\n",
    "* если изменения в векторе весов небольшие (скажем, четвёртый знак поcле запятой) - останавливаем итерации\n",
    "\n",
    "Когда вектор перестаёт меняться - говорят, что алгоритм \"сошёлся\" (имеется в виду сходимость к оптимальной точке) - это значит, что итерации можно останавливать."
   ]
  },
  {
   "cell_type": "markdown",
   "metadata": {
    "slideshow": {
     "slide_type": "slide"
    }
   },
   "source": [
    "Применяем модель"
   ]
  },
  {
   "cell_type": "code",
   "execution_count": 61,
   "metadata": {
    "slideshow": {
     "slide_type": "fragment"
    }
   },
   "outputs": [],
   "source": [
    "support = np.linspace(X.min(), X.max(), num=100)\n",
    "# делаем предикт - считаем предсказания модели в каждой точке обучающей выборке в виде y=X*w\n",
    "y_hat = np.hstack([\n",
    "    np.ones(support.size).reshape(-1, 1),\n",
    "    support.reshape(-1, 1)\n",
    "]).dot(w.T)"
   ]
  },
  {
   "cell_type": "markdown",
   "metadata": {
    "slideshow": {
     "slide_type": "slide"
    }
   },
   "source": [
    "Визуализируем результаты"
   ]
  },
  {
   "cell_type": "code",
   "execution_count": 62,
   "metadata": {
    "slideshow": {
     "slide_type": "fragment"
    }
   },
   "outputs": [
    {
     "data": {
      "image/png": "[encoded data removed]",
      "text/plain": [
       "<Figure size 432x288 with 1 Axes>"
      ]
     },
     "metadata": {
      "needs_background": "light"
     },
     "output_type": "display_data"
    }
   ],
   "source": [
    "# строим график\n",
    "plt.plot(support, y_hat, 'b--', alpha=0.5, label='manifold')\n",
    "plt.scatter(data['x_train'], data['y_train'], 40, 'g', 'o', alpha=0.8, label='data')\n",
    "plt.show()"
   ]
  },
  {
   "cell_type": "markdown",
   "metadata": {
    "slideshow": {
     "slide_type": "slide"
    }
   },
   "source": [
    "Готово! Мы построили модель линейной регрессии, обучив коэффициенты регрессии с помощью нового инструмента - градиентного спуска. В реальных задачах выписывать градиенты не всегда необходимо - для этих целей есть готовая реализация [SGDRegressor](https://scikit-learn.org/stable/modules/generated/sklearn.linear_model.SGDRegressor.html). С понятием градиентного спуска вы очень плотно познакомитесь, когда будете изучать нейронные сети. Градиентный спуск - это основной метод для обучения нейросетей. "
   ]
  },
  {
   "cell_type": "markdown",
   "metadata": {
    "slideshow": {
     "slide_type": "slide"
    }
   },
   "source": [
    "**Особенности градиентного спуска**\n",
    "\n",
    "1. Нужно подбирать параметр $\\eta$. Еcли выбрать параметр слишком малым, то обучение регрессии будет происходить слишком медленно. Если слишком большим - вычисления не сойдутся к оптимуму. Вариант решения - адаптивный выбор величины шага (запомните это словосочетание - не раз услышите его в курсе по нейросетям).\n",
    "1. Долгие вычисления, если размер выборки $n$ становится большим. В этом случае мы можем вычислять градиент не по всей выборке за один шаг, а по одному случайному элементу выборки - в этом случае вычислений значительно меньше.\n",
    "\n",
    "Кроме того, градиент можно считать не только по одному объекту, но и по случайной подвыборке (батчу). Такая модификация алгоритма называется градиентным спуском по мини-батчам.\n",
    "\n",
    "\n",
    "Хорошая теория [тут](http://www.machinelearning.ru/wiki/images/6/68/voron-ML-Lin.pdf). Неплохая статья с разбором [формул обновления весов](https://medium.com/@lachlanmiller_52885/machine-learning-week-1-cost-function-gradient-descent-and-univariate-linear-regression-8f5fe69815fd). Видео от [специализации ШАД на coursera](https://ru.coursera.org/lecture/supervised-learning/gradiientnyi-spusk-dlia-linieinoi-rieghriessii-adARX)"
   ]
  }
 ],
 "metadata": {
  "celltoolbar": "Slideshow",
  "kernelspec": {
   "display_name": "Python 3",
   "language": "python",
   "name": "python3"
  },
  "language_info": {
   "codemirror_mode": {
    "name": "ipython",
    "version": 3
   },
   "file_extension": ".py",
   "mimetype": "text/x-python",
   "name": "python",
   "nbconvert_exporter": "python",
   "pygments_lexer": "ipython3",
   "version": "3.7.3"
  }
 },
 "nbformat": 4,
 "nbformat_minor": 2
}
