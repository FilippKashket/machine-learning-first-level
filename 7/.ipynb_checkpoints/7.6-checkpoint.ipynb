{
 "cells": [
  {
   "cell_type": "code",
   "execution_count": 1,
   "metadata": {},
   "outputs": [],
   "source": [
    "import pickle\n",
    "import numpy as np\n",
    "\n",
    "# данные получены с помощью функции make_classification \n",
    "with open('clustering.pkl', 'rb') as f:\n",
    "    data_clustering = pickle.load(f)\n",
    "\n",
    "X = np.array(data_clustering['X'])\n",
    "Y = np.array(data_clustering['Y'])"
   ]
  },
  {
   "cell_type": "code",
   "execution_count": 2,
   "metadata": {},
   "outputs": [],
   "source": [
    "import numpy as np\n",
    "from scipy.spatial import distance\n",
    "from sklearn.metrics.pairwise import euclidean_distances\n",
    "from matplotlib import pyplot as plt"
   ]
  },
  {
   "cell_type": "code",
   "execution_count": 3,
   "metadata": {},
   "outputs": [],
   "source": [
    "def random_centroids_selection(X, n, k):\n",
    "    \"\"\"инициализируем рандомом центы кластеров \"\"\"\n",
    "    result = []\n",
    "    random_selection = np.random.randint(0, n, size=k)\n",
    "    for obj_id in random_selection:\n",
    "        result.append(X[obj_id, :])\n",
    "    return result"
   ]
  },
  {
   "cell_type": "code",
   "execution_count": 16,
   "metadata": {},
   "outputs": [],
   "source": [
    "def eval_weight_evolution(centroid_objects_prev, centroid_objects, k):\n",
    "    \"\"\"Вычисляем, как сдвинулись центры за один шаг алгоритма\"\"\"\n",
    "    result =[]\n",
    "    for i in range(0, k):\n",
    "        dist = distance.euclidean(\n",
    "            centroid_objects_prev[i],\n",
    "            centroid_objects[i]\n",
    "        )\n",
    "        result.append(dist)\n",
    "    return result"
   ]
  },
  {
   "cell_type": "code",
   "execution_count": 22,
   "metadata": {},
   "outputs": [],
   "source": [
    "def eval_cluster_labels(X, centroids_objects):\n",
    "    \"Вычисляем метски кластеров\"\n",
    "    cluster_distances = euclidean_distances(X, centroids_objects)\n",
    "    cluster_labels = cluster_distances.argmin(axis=1)\n",
    "    return cluster_labels"
   ]
  },
  {
   "cell_type": "code",
   "execution_count": 25,
   "metadata": {},
   "outputs": [],
   "source": [
    "def eval_centroids(X, k, cluster_labels):\n",
    "    \"\"\"Вычисляем центры кластеров\"\"\"\n",
    "    result = []\n",
    "    for i in range(k):\n",
    "        new_centroid = X[cluster_labels==i].mean(axis=0)\n",
    "        result.append(new_centroid)\n",
    "    return result"
   ]
  },
  {
   "cell_type": "code",
   "execution_count": 33,
   "metadata": {},
   "outputs": [
    {
     "name": "stdout",
     "output_type": "stream",
     "text": [
      "шаг 0, смещение кластеров: [1.3150571893846092, 1.2102466781255072]\n",
      "шаг 1, смещение кластеров: [0.13473260834943032, 0.10882783424953058]\n",
      "шаг 2, смещение кластеров: [0.11776033260556205, 0.10228748178660481]\n",
      "шаг 3, смещение кластеров: [0.029085835298650255, 0.028656380274091592]\n",
      "шаг 4, смещение кластеров: [0.0, 0.0]\n"
     ]
    },
    {
     "data": {
      "text/plain": [
       "(array([[ 0.41719201,  0.84745995],\n",
       "        [-0.35492612, -0.65797643]]),\n",
       " array([0, 1, 1, 0, 1, 1, 1, 1, 0, 0, 1, 0, 1, 1, 0, 1, 1, 0, 1, 0, 0, 0,\n",
       "        1, 1, 1, 1, 0, 1, 0, 1, 0, 0, 0, 0, 0, 1, 0, 1, 1, 1, 1, 1, 1, 1,\n",
       "        0, 0, 1, 0, 1, 1, 0, 1, 0, 0, 1, 0, 1, 1, 0, 0, 0, 1, 1, 1, 0, 1,\n",
       "        0, 1, 0, 1, 0, 1, 1, 1, 0, 0, 0, 0, 1, 0, 0, 0, 0, 1, 0, 0, 1, 1,\n",
       "        1, 1, 1, 1, 0, 0, 0, 0, 1, 1, 1, 1], dtype=int64))"
      ]
     },
     "execution_count": 33,
     "metadata": {},
     "output_type": "execute_result"
    }
   ],
   "source": [
    "def k_means(X: np.array, k: int=2, eps: float=0.001, num_iteration: int=10):\n",
    "    \"\"\"Алгоритм К-средних\n",
    "    \n",
    "    :param X: обучающая выборка\n",
    "    :param k: количество кластеров\n",
    "    \"\"\"\n",
    "    centroids, cluster_labels = None, None\n",
    "    try:\n",
    "        n, m = X.shape\n",
    "    except ValueError:\n",
    "        print('Передан некорреткный обьект X')\n",
    "    #инициализируем рандомом центы кластеров\n",
    "    centroid_objects_prev = [np.zeros(m) for i in range(k)]\n",
    "    centroid_objects = random_centroids_selection(X, n, k)\n",
    "    weight_evolution = eval_weight_evolution(centroid_objects_prev, centroid_objects, k)\n",
    "    step = 0\n",
    "    while step < num_iteration and sum(weight_evolution[i] > eps for i in range(k))!=0:\n",
    "        centroid_objects_prev = centroid_objects.copy()\n",
    "        #вычислям метки кластеров\n",
    "        cluster_labels = eval_cluster_labels(X, centroid_objects)\n",
    "        #вычисляем центроиды кластеров\n",
    "        centroid_objects = eval_centroids(X , k, cluster_labels)\n",
    "        #на сколько сместились класетра\n",
    "        weight_evolution = eval_weight_evolution(centroid_objects_prev, centroid_objects, k)\n",
    "        print(\"шаг %s, смещение кластеров: %s\" % (step, weight_evolution))\n",
    "        step +=1\n",
    "    return np.vstack(centroid_objects), cluster_labels\n",
    "   \n",
    "    \n",
    "centroids, cluster_labels = k_means(X, k=2, num_iteration=10)\n",
    "centroids, cluster_labels"
   ]
  }
 ],
 "metadata": {
  "kernelspec": {
   "display_name": "Python 3",
   "language": "python",
   "name": "python3"
  },
  "language_info": {
   "codemirror_mode": {
    "name": "ipython",
    "version": 3
   },
   "file_extension": ".py",
   "mimetype": "text/x-python",
   "name": "python",
   "nbconvert_exporter": "python",
   "pygments_lexer": "ipython3",
   "version": "3.7.3"
  }
 },
 "nbformat": 4,
 "nbformat_minor": 2
}
