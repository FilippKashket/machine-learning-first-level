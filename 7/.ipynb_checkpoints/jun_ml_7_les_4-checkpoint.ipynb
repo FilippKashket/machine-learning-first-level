{
 "cells": [
  {
   "cell_type": "markdown",
   "metadata": {
    "colab_type": "text",
    "id": "NPeTguVvziHM"
   },
   "source": [
    "# Урок 4. Алгоритм K-средних на python\n",
    "\n",
    "Давайте создадим свою реализацию алгоритма на питоне, чтобы лучше понимать, как он работает.\n",
    "\n",
    "Загрузим данные для кластеризации"
   ]
  },
  {
   "cell_type": "code",
   "execution_count": 0,
   "metadata": {
    "colab": {},
    "colab_type": "code",
    "id": "P9o4SZDlziHQ"
   },
   "outputs": [],
   "source": [
    "import pickle\n",
    "import numpy as np\n",
    "\n",
    "# данные получены с помощью функции make_classification \n",
    "with open('data/clustering.pkl', 'rb') as f:\n",
    "    data_clustering = pickle.load(f)\n",
    "\n",
    "X = np.array(data_clustering['X'])\n",
    "Y = np.array(data_clustering['Y'])"
   ]
  },
  {
   "cell_type": "markdown",
   "metadata": {
    "colab_type": "text",
    "id": "l6MCIKY7ziHY"
   },
   "source": [
    "Приступаем к разработке"
   ]
  },
  {
   "cell_type": "code",
   "execution_count": 0,
   "metadata": {
    "colab": {},
    "colab_type": "code",
    "id": "dOos-PoVziHZ",
    "outputId": "b21e89f3-df14-465a-8fa0-b86b3d7e23cc"
   },
   "outputs": [
    {
     "name": "stdout",
     "output_type": "stream",
     "text": [
      "шаг 0, смещение кластеров: [0.3246881235849643, 0.5978339723630341]\n",
      "шаг 1, смещение кластеров: [0.2961214969261112, 0.2594244117669309]\n",
      "шаг 2, смещение кластеров: [0.1490029878364895, 0.12292696762096819]\n",
      "шаг 3, смещение кластеров: [0.0, 0.0]\n"
     ]
    },
    {
     "data": {
      "image/png": "[encoded data removed]",
      "text/plain": [
       "<Figure size 432x288 with 1 Axes>"
      ]
     },
     "metadata": {
      "needs_background": "light",
      "tags": []
     },
     "output_type": "display_data"
    }
   ],
   "source": [
    "import numpy as np\n",
    "from scipy.spatial import distance\n",
    "from sklearn.metrics.pairwise import euclidean_distances\n",
    "from matplotlib import pyplot as plt\n",
    "\n",
    "%matplotlib inline\n",
    "\n",
    "def random_centroids_selection(X, n, k):\n",
    "    \"\"\"Рандомно инициализируем центр кластера\"\"\"\n",
    "    result = []\n",
    "    for obj_id in np.random.randint(0, n, size=k):\n",
    "        result.append(X[obj_id, :])\n",
    "    return result\n",
    "\n",
    "def eval_weight_evolution(centroid_objects_prev, centroid_objects, k):\n",
    "    \"\"\"Вычисляем, как сдвинулись центры за один шаг алгоритма\"\"\"\n",
    "    result = []\n",
    "    for i in range(k):\n",
    "        dist = distance.euclidean(\n",
    "            centroid_objects_prev[i],\n",
    "            centroid_objects[i]\n",
    "        )\n",
    "        result.append(dist)\n",
    "    return result\n",
    "\n",
    "def eval_centroids(X, k, cluster_lables):\n",
    "    \"\"\"Вычисляем новые центроиды с методом усреднения координат\"\"\"\n",
    "    result = []\n",
    "    for i in range(k):\n",
    "        new_centroid = X[cluster_lables==i].mean(axis=0)\n",
    "        result.append(new_centroid)\n",
    "    return result\n",
    "\n",
    "def eval_cluster_lables(X, centroid_objects):\n",
    "    \"\"\"Вычисляем метки кластеров\"\"\"\n",
    "    # формируем матрицу (n x k), которая содержит расстояние от каждого объекта до каждого центроида\n",
    "    cluster_distance = euclidean_distances(X, centroid_objects)\n",
    "    # находим минимальное расстояние в каждой строчке - это будет кластер объекта\n",
    "    cluster_lables = cluster_distance.argmin(axis=1)\n",
    "    return cluster_lables\n",
    "\n",
    "def k_means(X:np.array, k: int=2, eps: float=0.001, num_iteration: int=10) -> np.array:\n",
    "    \"\"\"Алгоритм К-средних\n",
    "    \n",
    "    :param X: обучающая выборка\n",
    "    :param k: количество кластеров\n",
    "    \"\"\"\n",
    "    try:\n",
    "        n, m = X.shape\n",
    "    except ValueError:\n",
    "        print(\"Обучающая выборка должна быть двумерным массивом (n, m) гдк m - размер выборки\")\n",
    "    # инициализируем центроиды случайным элементом выборки\n",
    "    centroid_objects = random_centroids_selection(X, n, k)\n",
    "    centroid_objects_prev = [np.zeros(m) for i in range(k)]\n",
    "    # расстояние между предыдущим и текущим положением каждого центроида\n",
    "    weight_evolution = eval_weight_evolution(centroid_objects_prev, centroid_objects, k)\n",
    "    step = 0\n",
    "    # условие остановки: центроиды не изменили своего положения\n",
    "    # повторяем до выполнения условия остановки\n",
    "    while sum(weight_evolution[i] > eps for i in range(k))!=0 and step < num_iteration:\n",
    "        # иначе можно прострелить себе ногу =0\n",
    "        centroid_objects_prev = centroid_objects.copy()\n",
    "        # вычисляем метки кластеров\n",
    "        cluster_lables = eval_cluster_lables(X, centroid_objects)\n",
    "        # усредняем координаты объектов каждого кластера - это новое положение центроида\n",
    "        centroid_objects = eval_centroids(X, k, cluster_lables)\n",
    "        # вычисляем расстояние между центроидами на соседних итерациях\n",
    "        weight_evolution = eval_weight_evolution(centroid_objects_prev, centroid_objects, k)\n",
    "        print(\"шаг %s, смещение кластеров: %s\" % (step, weight_evolution))\n",
    "        # обновлённые кластера\n",
    "        step += 1\n",
    "    return np.vstack(centroid_objects), cluster_lables\n",
    "    \n",
    "\n",
    "centroids, labels = k_means(X, k=2, num_iteration=10)\n",
    "\n",
    "plt.scatter(X[:, 0], X[:, 1], s=40, c=Y, marker='o', alpha=0.8, label='data')\n",
    "plt.plot(centroids[:, 0], centroids[:, 1], marker='+', mew=10, ms=20)\n",
    "plt.show()"
   ]
  },
  {
   "cell_type": "markdown",
   "metadata": {
    "colab_type": "text",
    "id": "mN0OYDiPziHg"
   },
   "source": [
    "В этом уроке мы реализовали KMeans самоcтоятельно:\n",
    "* поняли, как алгоритм работает \"изнутри\"\n",
    "* прокачали свои навыки программирования"
   ]
  },
  {
   "cell_type": "markdown",
   "metadata": {
    "colab_type": "text",
    "id": "LpiFIfHIziHh"
   },
   "source": [
    "В следующем уроке мы рассмотрим алгоритм DBScan - он тоже решает задачу классификации, но делает это по другому: не надо задавать количество кластеров, вместо понятия \"близости\" точек мы будем использовать понятие \"плотность\" (о то, что это такое, мы и узнаем в следующем занятии)."
   ]
  }
 ],
 "metadata": {
  "colab": {
   "name": "jun_ml_7_les-4.ipynb",
   "provenance": []
  },
  "kernelspec": {
   "display_name": "Python 3",
   "language": "python",
   "name": "python3"
  },
  "language_info": {
   "codemirror_mode": {
    "name": "ipython",
    "version": 3
   },
   "file_extension": ".py",
   "mimetype": "text/x-python",
   "name": "python",
   "nbconvert_exporter": "python",
   "pygments_lexer": "ipython3",
   "version": "3.7.3"
  }
 },
 "nbformat": 4,
 "nbformat_minor": 1
}
