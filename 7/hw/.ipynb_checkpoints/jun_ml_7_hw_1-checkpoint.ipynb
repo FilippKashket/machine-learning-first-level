{
 "cells": [
  {
   "cell_type": "markdown",
   "metadata": {
    "colab_type": "text",
    "id": "d5lYtakjONu8"
   },
   "source": [
    "## Домашнее задание начального уровня\n",
    "\n",
    "Вычислите евклидово расстояние между кластером *c1* и кластером *c3*. Это расстояние получилось меньше, или больше чем расстояние между кластером *c1* и кластером *c2*?\n",
    "\n",
    "Координаты центра для трёх кластеров:\n",
    "\n",
    "* \"красный\" кластер $c_1 = [1.0, 1.5]$\n",
    "* \"оранжевый\" кластер $c_2 = [-1.0, -0.5]$\n",
    "* \"зеленый\" кластер $c_3 = [1.0, -0.5]$\n",
    "\n",
    "![clustering_example](https://248006.selcdn.ru/public/DS.%20Block%202.%20M7/clustering_example.png)"
   ]
  },
  {
   "cell_type": "code",
   "execution_count": 2,
   "metadata": {
    "colab": {},
    "colab_type": "code",
    "id": "_BUBuVtnONu_"
   },
   "outputs": [
    {
     "name": "stdout",
     "output_type": "stream",
     "text": [
      "Расстояние 2.0\n"
     ]
    }
   ],
   "source": [
    "from scipy.spatial.distance import euclidean\n",
    "\n",
    "c1 = [1.0,1.5]\n",
    "\n",
    "c3 = [1.0, -0.5]\n",
    "\n",
    "dist = euclidean(c1, c3)\n",
    "\n",
    "print(f'Расстояние {dist}')\n"
   ]
  },
  {
   "cell_type": "markdown",
   "metadata": {},
   "source": [
    "Расстояние между с1 и с3 меньше, чем между с1 и с2."
   ]
  },
  {
   "cell_type": "markdown",
   "metadata": {
    "colab_type": "text",
    "id": "erGAkM0UONvJ"
   },
   "source": [
    "В этом уроке мы познакомились с постановкой задачи кластеризации. Мы узнали, с помощью какой функции можно вычислить расстояние между двумя точками. В следующем уроке мы рассмотрим один из самых простых алгоритмов кластеризации, который назовём алгоритмом $k-$средних."
   ]
  }
 ],
 "metadata": {
  "colab": {
   "name": "jun_ml_7_hw-1.ipynb",
   "provenance": []
  },
  "kernelspec": {
   "display_name": "Python 3",
   "language": "python",
   "name": "python3"
  },
  "language_info": {
   "codemirror_mode": {
    "name": "ipython",
    "version": 3
   },
   "file_extension": ".py",
   "mimetype": "text/x-python",
   "name": "python",
   "nbconvert_exporter": "python",
   "pygments_lexer": "ipython3",
   "version": "3.7.3"
  }
 },
 "nbformat": 4,
 "nbformat_minor": 1
}
