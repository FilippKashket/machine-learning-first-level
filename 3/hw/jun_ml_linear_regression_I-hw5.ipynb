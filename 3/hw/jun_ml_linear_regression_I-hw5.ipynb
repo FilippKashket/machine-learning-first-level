{
 "cells": [
  {
   "cell_type": "markdown",
   "metadata": {
    "colab_type": "text",
    "id": "cisB24TazhU2"
   },
   "source": [
    "## Домашняя работа 5\n",
    "\n",
    "**Задание простого уровня** Мы говорили, что метрики качества нужны, чтобы сравнивать различные модели между собой. В задаче полиномиальной регрессии реализуйте код для выбора лучшей степени полиному:\n",
    "\n",
    "* возьмите все степени от 1 до 10 по порядку, без пропусков.\n",
    "* найдите степень полинома будет лучший r2-score\n",
    "* напишите код, который выводит самую подходящую степень полинома и соответствующий ей скор\n",
    "\n",
    "Эта процедура называется Grid Search и помогает найти лучшие параметры для модели.\n",
    "\n",
    "Обучите лучшую модель и сделайте predict"
   ]
  },
  {
   "cell_type": "code",
   "execution_count": 11,
   "metadata": {
    "colab": {},
    "colab_type": "code",
    "id": "yAOKZYMNzhU4"
   },
   "outputs": [
    {
     "data": {
      "text/html": [
       "<div>\n",
       "<style scoped>\n",
       "    .dataframe tbody tr th:only-of-type {\n",
       "        vertical-align: middle;\n",
       "    }\n",
       "\n",
       "    .dataframe tbody tr th {\n",
       "        vertical-align: top;\n",
       "    }\n",
       "\n",
       "    .dataframe thead th {\n",
       "        text-align: right;\n",
       "    }\n",
       "</style>\n",
       "<table border=\"1\" class=\"dataframe\">\n",
       "  <thead>\n",
       "    <tr style=\"text-align: right;\">\n",
       "      <th></th>\n",
       "      <th>x_train</th>\n",
       "      <th>y_train</th>\n",
       "    </tr>\n",
       "  </thead>\n",
       "  <tbody>\n",
       "    <tr>\n",
       "      <th>0</th>\n",
       "      <td>0.138368</td>\n",
       "      <td>0.838812</td>\n",
       "    </tr>\n",
       "    <tr>\n",
       "      <th>1</th>\n",
       "      <td>0.157237</td>\n",
       "      <td>0.889313</td>\n",
       "    </tr>\n",
       "    <tr>\n",
       "      <th>2</th>\n",
       "      <td>0.188684</td>\n",
       "      <td>1.430040</td>\n",
       "    </tr>\n",
       "    <tr>\n",
       "      <th>3</th>\n",
       "      <td>0.685553</td>\n",
       "      <td>1.717309</td>\n",
       "    </tr>\n",
       "    <tr>\n",
       "      <th>4</th>\n",
       "      <td>0.874237</td>\n",
       "      <td>2.032588</td>\n",
       "    </tr>\n",
       "  </tbody>\n",
       "</table>\n",
       "</div>"
      ],
      "text/plain": [
       "    x_train   y_train\n",
       "0  0.138368  0.838812\n",
       "1  0.157237  0.889313\n",
       "2  0.188684  1.430040\n",
       "3  0.685553  1.717309\n",
       "4  0.874237  2.032588"
      ]
     },
     "execution_count": 11,
     "metadata": {},
     "output_type": "execute_result"
    }
   ],
   "source": [
    "import numpy as np\n",
    "import pandas as pd\n",
    "from sklearn.metrics import r2_score\n",
    "from sklearn.linear_model import LinearRegression\n",
    "\n",
    "data = pd.read_csv('../non_linear.csv', sep=',')\n",
    "data.head()"
   ]
  },
  {
   "cell_type": "code",
   "execution_count": 3,
   "metadata": {},
   "outputs": [],
   "source": [
    "def generate_degrees(source_data: list, degree: int):\n",
    "    \"\"\"Функция, которая принимает на вход одномерный массив, а возвращает n-мерный\n",
    "    \n",
    "    Для каждой степени от 1 до  degree возводим x в эту степень\n",
    "    \"\"\"\n",
    "    return np.array([\n",
    "          source_data**n for n in range(1, degree + 1)  \n",
    "    ]).T"
   ]
  },
  {
   "cell_type": "code",
   "execution_count": 37,
   "metadata": {},
   "outputs": [],
   "source": [
    "def r2_score_polynomial(degree, data):\n",
    "    \"\"\"Генерим данные, тренируем модель\n",
    "    \n",
    "    дополнительно рисуем график\n",
    "    \"\"\"\n",
    "    \n",
    "    X = generate_degrees(data['x_train'], degree)\n",
    "\n",
    "    model = LinearRegression().fit(X, data.y_train)\n",
    "    y_pred = model.predict(X)\n",
    "\n",
    "    error = r2_score(data['y_train'], y_pred)\n",
    "    return error "
   ]
  },
  {
   "cell_type": "code",
   "execution_count": 58,
   "metadata": {},
   "outputs": [],
   "source": [
    "def find_best_polinom(data, max_n):\n",
    "    errors = np.array([r2_score_polynomial(n, data) for n in range(1,max_n+1) ])    \n",
    "    best_degree = np.argmax(errors)+1\n",
    "    return best_degree, errors[best_degree-1] "
   ]
  },
  {
   "cell_type": "code",
   "execution_count": 64,
   "metadata": {},
   "outputs": [
    {
     "name": "stdout",
     "output_type": "stream",
     "text": [
      "подходящую степень полинома 10, ошибка 0.9091133831293586\n"
     ]
    }
   ],
   "source": [
    "result = find_best_polinom(data, 10)\n",
    "print('подходящую степень полинома %s, ошибка %s' %  result )"
   ]
  },
  {
   "cell_type": "code",
   "execution_count": 66,
   "metadata": {},
   "outputs": [
    {
     "data": {
      "text/plain": [
       "array([ 0.88210097,  1.01897622,  1.21593663,  1.90777397,  1.89320068,\n",
       "        1.96799159,  1.99510714,  2.00255713,  2.05113541,  2.05904861,\n",
       "        2.07135515,  2.08488904,  2.0878935 ,  2.05782442,  1.96152895,\n",
       "        1.70752908,  1.25295913,  1.19221964,  1.03691937,  1.00291056,\n",
       "        0.88643136,  0.87018964,  0.48418417,  0.44549163,  0.29608611,\n",
       "        0.26126515,  0.20252298,  0.19922475,  0.17116326,  0.15216131,\n",
       "        0.15216131,  0.15070403,  0.14577292,  0.13117661,  0.0936225 ,\n",
       "        0.08594859,  0.07275958,  0.06757109, -0.0088838 , -0.00456109,\n",
       "        0.00499679,  0.0586599 ,  0.10034354,  0.22510037,  0.27123177,\n",
       "        0.37545173,  0.56831688,  0.96442833,  0.93519255,  0.93519255])"
      ]
     },
     "execution_count": 66,
     "metadata": {},
     "output_type": "execute_result"
    }
   ],
   "source": [
    "X = generate_degrees(data['x_train'], 10)\n",
    "\n",
    "model = LinearRegression().fit(X, data.y_train)\n",
    "y_pred = model.predict(X)\n",
    "y_pred"
   ]
  },
  {
   "cell_type": "markdown",
   "metadata": {
    "colab_type": "text",
    "id": "z3dSmlAFzhU9"
   },
   "source": [
    "**Задание среднего уровня** Напишите класс для обучения модели, который содержит:\n",
    "\n",
    "* функцию `.fit(X, y)` , которая принимает на вход массив фичей `X`, массив таргетов `y` и обучает коэффициенты регрессии. Код для обучения взять из первого урока модуля *Постановка ML задачи линейной регрессии*\n",
    "* функцию `.predict(X)`, которая по массиву фичей `X` возвращает массив предсказаний `y`\n",
    "\n",
    "Нужно использовать код для аналитически вычисяемых коэффициентов. \n",
    "\n",
    "Это задание позволит понять, как работает линейная регрессия \"внутри\" библиотечной реализации."
   ]
  },
  {
   "cell_type": "code",
   "execution_count": 131,
   "metadata": {
    "colab": {},
    "colab_type": "code",
    "id": "rayvZFx1zhU9"
   },
   "outputs": [],
   "source": [
    "import numpy as np\n",
    "from numpy.linalg import inv\n",
    "\n",
    "class CustomLinearReg:\n",
    "    def __init__(self):\n",
    "        self.w = []\n",
    "    \n",
    "    def fit(self, X, y):\n",
    "        X_new = [1 for i in range(1+len(X)-1)]+X\n",
    "        X_new = np.array(X_new).reshape(-1,2, order='F')\n",
    "        Y_new = np.array(y).reshape(-1,1)\n",
    "        X_T_X = (X_new.T).dot(X_new)\n",
    "        X_T_X_inverted = inv(X_T_X)\n",
    "        self.w = X_T_X_inverted.dot(X_new.T).dot(Y_new)\n",
    "        return self\n",
    "    \n",
    "    def predict(self,X):\n",
    "        X_new = [1 for i in range(1+len(X)-1)]+X\n",
    "        X_new = np.array(X_new).reshape(-1,2, order='F')\n",
    "        res = X_new.dot(self.w)\n",
    "        print(res)"
   ]
  },
  {
   "cell_type": "code",
   "execution_count": 141,
   "metadata": {},
   "outputs": [
    {
     "name": "stdout",
     "output_type": "stream",
     "text": [
      "[[13.21428571]\n",
      " [20.35714286]\n",
      " [27.5       ]\n",
      " [48.92857143]]\n"
     ]
    }
   ],
   "source": [
    "x_hw = [50, 60, 70, 100]\n",
    "y_hw = [10, 15, 40, 45]\n",
    "\n",
    "reg = CustomLinearReg().fit(x_hw, y_hw)\n",
    "\n",
    "reg.predict(x_hw)"
   ]
  },
  {
   "cell_type": "markdown",
   "metadata": {
    "colab_type": "text",
    "id": "uwWP7aPOzhVA"
   },
   "source": [
    "**Задание высокого уровня**\n",
    "\n",
    "1. разделите датасет с домами Бостона из Урока 2 (таргет и фичи) на две части: в одной части 80% датасета (назовём train) в другой 20% (назовём valid)\n",
    "1. обучите модель только на train датасете\n",
    "1. постройте предсказания valid датасете\n",
    "1. Посчитайте  `r2 score` на валидационном сете\n",
    "\n",
    "После этого примените к обеим датасетам z-преобразование и повторите шаги 2-4. Как изменилась метрика r2?\n",
    "\n",
    "Это задание поможет понять, как валидировать линейную регрессию (и другие модели) на отложенной выборке."
   ]
  },
  {
   "cell_type": "code",
   "execution_count": 204,
   "metadata": {},
   "outputs": [
    {
     "name": "stdout",
     "output_type": "stream",
     "text": [
      "r2 score до z-преобразования -0.252942, после 0.062840\n"
     ]
    }
   ],
   "source": [
    "from sklearn.datasets import load_boston\n",
    "from sklearn.linear_model import LinearRegression\n",
    "from sklearn.metrics import r2_score\n",
    "from sklearn.preprocessing import StandardScaler\n",
    "\n",
    "boston_dataset = load_boston()\n",
    "\n",
    "features_train = boston_dataset.data[:round(boston_dataset.data.shape[0]*0.8),:]\n",
    "features_valid = boston_dataset.data[round(boston_dataset.data.shape[0]*0.8):,:]\n",
    "\n",
    "y_train = boston_dataset.target[:round(boston_dataset.target.shape[0]*0.8)]\n",
    "y_valid = boston_dataset.target[round(boston_dataset.target.shape[0]*0.8):]\n",
    "\n",
    "reg = LinearRegression().fit(features_train, y_train)\n",
    "\n",
    "y_pred = reg.predict(features_valid)\n",
    "\n",
    "error_before = r2_score(y_valid, y_pred)\n",
    "\n",
    "\n",
    "y_train = StandardScaler().fit_transform(y_train.reshape(-1,1)).reshape(-1) \n",
    "y_valid = StandardScaler().fit_transform(y_valid.reshape(-1,1)).reshape(-1)\n",
    "\n",
    "reg = LinearRegression().fit(features_train, y_train)\n",
    "\n",
    "y_pred = reg.predict(features_valid)\n",
    "\n",
    "error_after = r2_score(y_valid, y_pred)\n",
    "error_after\n",
    "\n",
    "print('r2 score до z-преобразования %f, после %f' %(error_before, error_after))"
   ]
  },
  {
   "cell_type": "markdown",
   "metadata": {},
   "source": [
    "После z-преобразования r2 score стал больше, значит ошибка уменьшилась"
   ]
  }
 ],
 "metadata": {
  "colab": {
   "name": "jun_ml_linear_regression_I-hw5.ipynb",
   "provenance": [],
   "version": "0.3.2"
  },
  "kernelspec": {
   "display_name": "Python 3",
   "language": "python",
   "name": "python3"
  },
  "language_info": {
   "codemirror_mode": {
    "name": "ipython",
    "version": 3
   },
   "file_extension": ".py",
   "mimetype": "text/x-python",
   "name": "python",
   "nbconvert_exporter": "python",
   "pygments_lexer": "ipython3",
   "version": "3.7.3"
  }
 },
 "nbformat": 4,
 "nbformat_minor": 1
}
