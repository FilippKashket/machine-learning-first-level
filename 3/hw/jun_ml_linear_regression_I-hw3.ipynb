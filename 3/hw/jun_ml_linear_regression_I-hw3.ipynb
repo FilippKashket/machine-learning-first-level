{
 "cells": [
  {
   "cell_type": "markdown",
   "metadata": {
    "colab_type": "text",
    "id": "Kj4RcGot8CZV"
   },
   "source": [
    "### Домашняя работа 3\n",
    "\n",
    "У вас есть два набора точек - истинные значения *y_true* и предсказанные значения *y_pred*\n",
    "\n",
    "* для каждой точки из *y_true* постройте величину ошибки $e = y-\\hat{y}$ - это называется **остатки регрессии**\n",
    "* возведите ошибки в квандрат $e^2$\n",
    "* постройте график ошибок - зависимость $e^2$ от $e$"
   ]
  },
  {
   "cell_type": "code",
   "execution_count": 1,
   "metadata": {
    "colab": {},
    "colab_type": "code",
    "id": "YS5vFeVt8CZb"
   },
   "outputs": [],
   "source": [
    "import numpy as np\n",
    "\n",
    "y_pred_ = np.array([30.0, 25.03, 30.57, 28.61, 27.94, 25.26, 23.0, 19.54, 11.52, 18.92, 19.0, 21.59, 20.91, 19.55, 19.28, 19.3, 20.53, 16.91, 16.18, 18.41, 12.52, 17.67, 15.83, 13.81, 15.68, 13.39, 15.46, 14.71, 19.55, 20.88, 11.46, 18.06, 8.81, 14.28, 13.71, 23.81, 22.34, 23.11, 22.92, 31.36])\n",
    "y_true_ = np.array([24.0, 21.6, 34.7, 33.4, 36.2, 28.7, 22.9, 27.1, 16.5, 18.9, 15.0, 18.9, 21.7, 20.4, 18.2, 19.9, 23.1, 17.5, 20.2, 18.2, 13.6, 19.6, 15.2, 14.5, 15.6, 13.9, 16.6, 14.8, 18.4, 21.0, 12.7, 14.5, 13.2, 13.1, 13.5, 18.9, 20.0, 21.0, 24.7, 30.8])"
   ]
  },
  {
   "cell_type": "markdown",
   "metadata": {
    "colab_type": "text",
    "id": "Msa1g5qv8CZq"
   },
   "source": [
    "Заполните пропущенное мето в коде. График должен получится вот такой\n",
    "\n",
    "![experiment_errors](https://248006.selcdn.ru/public/Data-science-4/img/experiment_errors.png)"
   ]
  },
  {
   "cell_type": "code",
   "execution_count": 2,
   "metadata": {
    "colab": {
     "base_uri": "https://localhost:8080/",
     "height": 263
    },
    "colab_type": "code",
    "executionInfo": {
     "elapsed": 743,
     "status": "ok",
     "timestamp": 1578651200217,
     "user": {
      "displayName": "Анастасия Рогачевская",
      "photoUrl": "https://lh3.googleusercontent.com/a-/AAuE7mB92snW1RMZTGvFBrPMpd_BzLIeP2XnbSZ3ZNVFUQ=s64",
      "userId": "07714489023974728369"
     },
     "user_tz": -180
    },
    "id": "rkZUITeD8CZt",
    "outputId": "73bf4f8f-9031-408e-a585-f96c0abb6367"
   },
   "outputs": [
    {
     "data": {
      "image/png": "[encoded data removed]",
      "text/plain": [
       "<Figure size 432x288 with 1 Axes>"
      ]
     },
     "metadata": {
      "needs_background": "light"
     },
     "output_type": "display_data"
    }
   ],
   "source": [
    "from matplotlib import pyplot as plt\n",
    "\n",
    "%matplotlib inline\n",
    "\n",
    "# -- ВАШ КОД ТУТ --\n",
    "err = y_pred_ - y_true_\n",
    "square_err = err ** 2\n",
    "\n",
    "# Дальше ничего менять не надо\n",
    "\n",
    "# лайфхак, чтобы нарисовать точки в правильном порядке\n",
    "ids = np.argsort(err)\n",
    "\n",
    "# рисуем график со здачением ошибки\n",
    "plt.scatter(err[ids], square_err[ids])\n",
    "plt.show()"
   ]
  },
  {
   "cell_type": "code",
   "execution_count": 0,
   "metadata": {
    "colab": {},
    "colab_type": "code",
    "id": "T_7K9Rrf8V1B"
   },
   "outputs": [],
   "source": []
  }
 ],
 "metadata": {
  "colab": {
   "name": "jun_ml_linear_regression_I-hw3.ipynb",
   "provenance": []
  },
  "kernelspec": {
   "display_name": "Python 3",
   "language": "python",
   "name": "python3"
  },
  "language_info": {
   "codemirror_mode": {
    "name": "ipython",
    "version": 3
   },
   "file_extension": ".py",
   "mimetype": "text/x-python",
   "name": "python",
   "nbconvert_exporter": "python",
   "pygments_lexer": "ipython3",
   "version": "3.7.3"
  }
 },
 "nbformat": 4,
 "nbformat_minor": 1
}
