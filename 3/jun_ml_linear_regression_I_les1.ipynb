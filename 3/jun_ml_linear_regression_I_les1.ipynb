{
 "cells": [
  {
   "cell_type": "markdown",
   "metadata": {},
   "source": [
    "В этом модуле мы узнаем,  как обучить простейшую модель машинного обучения - линейную регрессию. Разберёмся, как отобразить интуитивное представление на язык программирования.\n",
    "Мы поговорим о том, как измерить качество обученной модели, а так же научимся правильно подготавливать фичи модели,чтобы добиваться более высокого качества решения.\n",
    "В конце урока вы сможете решать интересные задачи: например, прогнозировать цену дома по его площади, используя язык программирования **Python**."
   ]
  },
  {
   "cell_type": "markdown",
   "metadata": {},
   "source": [
    "# Урок 1. Постановка ML задачи линейной регрессии\n",
    "\n",
    "Впервые термин *регрессия* в статистике был использован английским исследователем Френсисом Гальтоном (1886) в  исследовании долльно простого вопроса: как связаны рост отца и рост сына? Было обнаружено, что в целом сыновья высоких отцов, оказались более высокими, чем сыновья отцов с низким ростом. Более интересным было то, что разброс в росте сыновей (по оси $Y$) был меньшим, чем разброс в росте отцов (по оси $X$), как видно на картинке:\n",
    "![halton_lin_reg](https://248006.selcdn.ru/public/Data-science-4/img/halton_lin_reg.png)\n",
    "Так проявлялась тенденция возвращения роста сыновей к среднему (regression to mediocrity), то есть «регресс». Когда говорим про регрессию в машинном обучении, то понимаем под этим модель, которая делает прогнозы с помощью \"усреднения\" входных данных. Подробнее о том, как именно проходит усреденения, мы поговорим в этом уроке."
   ]
  },
  {
   "cell_type": "markdown",
   "metadata": {},
   "source": [
    "Зачем же нам может понадобиться получать значение одной величины (целевой переменной) по значению других величин (фичей)? Рассотрим на примере риэлторского агентства. У нас есть информация про дома\n",
    "\n",
    "* площадь\n",
    "* количество комнат жилых\n",
    "* наличие гардеробной\n",
    "* ...\n",
    "* цена дома\n",
    "\n",
    "К нам приходит клиент и хочет выставить свой дом на продажу за сумму $x=88$ млн. Наша задача - подсказать, насколько желаемая цена адекватна и соответствует дому, который предлагается. Мы хотим построить математическую модель, которая на вход принимает разные характеристики дома (например, площадь), а на выходе возвращает предсказанную цену. Такая модель должна \"понимать\", с какой силой  площадь (и все остальные параметры) влияют на цену дома."
   ]
  },
  {
   "cell_type": "markdown",
   "metadata": {},
   "source": [
    "Идея этого алгоритма очень проста - давайте для пример возьмём простой случай, когда у нас одна переменная - площадь дома (в машинном обучении эту переменную называют \"фича\"), обозначим её за $x$ и один целевой признак - цена дома, обозначим её за $y$. Как нам построить очень простую модель, которая предсказывает значение цены по значению площади?"
   ]
  },
  {
   "cell_type": "markdown",
   "metadata": {},
   "source": [
    "Наши данные для анализа представлены в виде облака точек (на картинке простой пример, где \"облако\" - это всего 4 точки), мы хотим провести среди точек прямую линию, то есть представить наши данные в виде линейной зависимости $\\hat{y} = a\\cdot x + b$. Допустим для задачи \"Предскажи стоимость дома по площади\"\n",
    "\n",
    "* $y$ - цена дома, которая нам известна\n",
    "* $x$ - площадь дома\n",
    "* $a$ - коэффициент, на который умножаем площадь\n",
    "* $b$ - коэффициент, который называется \"свободным членом\"\n"
   ]
  },
  {
   "cell_type": "markdown",
   "metadata": {},
   "source": [
    "Интуитивно понятно, что линия должна быть максимально возможно близка к каждой точке (оранжевая линия, например, лежит далеко от крайних точек а синяя линия боле компромиссная - она стремится пройти как можно ближе к каждой точке.\n",
    "\n",
    "![least_squares_learning](https://248006.selcdn.ru/public/Data-science-4/img/least_line.png)\n",
    "\n",
    "Величина $\\hat{y}$ называется *прогнозом* линейной регрессии. Чтобы получить прогноз, мы умножаем коэффициент $a$ на значение признака $x$ и добавляем свободный член $b$. Давайте получим уравнение этой \"синей линии\" по шагам"
   ]
  },
  {
   "cell_type": "markdown",
   "metadata": {},
   "source": [
    "**Шаг 1** Как же нам определить по входным данным идеальные коэффициенты $a$ и $b$? Давайте немного уйдём от школьных обозначении $a$ и $b$ к обозначениям $w_1$ и $w_0$, тогда формула приобретает следующий вид:\n",
    "$$\n",
    "y = w_1x + w_0\\cdot1 = w_1x_1 + w_0x_0\n",
    "$$\n",
    "\n",
    "Что мы сделали? Ничего сложного. Кроме значения фичи $x_1$ ввели специальную фичу $x_0$ которая всегда равна единице. "
   ]
  },
  {
   "cell_type": "markdown",
   "metadata": {},
   "source": [
    "**Шаг 2** Теперь сделаем следущий шажок. У нас есть уравнение для одной точки, а на а картинке выше у нас четыре точки - то есть вместо одного уравнения мы можем написать четыре уравнения (верхний индекс - это номер точки в нашем датасете, от одного до 4):\n",
    "\n",
    "$$\n",
    "\\left\\{\n",
    "\\begin{array}{l}\n",
    "y^1 = w_1x^1_1 + w_0x^1_0 \\\\\n",
    "y^2 = w_1x^2_1 + w_0x^2_0 \\\\\n",
    "y^3 = w_1x^3_1 + w_0x^3_0 \\\\\n",
    "y^4 = w_1x^4_1 + w_0x^4_0 \\\\\n",
    "\\end{array}\n",
    "\\right.\n",
    "$$\n",
    "\n",
    "Заметьте, что координаты точек меняются, а вот коэффициенты $w_1, w_0$ присутствуют в каждом уравнении. Суть линейной регрессии как раз в том, чтобы определить наилучшие коэффициенты $w_1, w_0$ такие, чтобы все четыре уравнения решились (хотя бы приближенно). "
   ]
  },
  {
   "cell_type": "markdown",
   "metadata": {},
   "source": [
    "**Шаг 3** Перейдём в векторным обозначениям\n",
    "$$\n",
    "\\left.\n",
    "\\begin{array}{l}\n",
    "(w_1, w_0) = \\overline{w} \\\\\n",
    "(x_1, x_0) = \\overline{x} \\\\\n",
    "\\end{array}\n",
    "\\right.\n",
    "$$\n",
    "\n",
    "Тогда для каждой точки нашего датасета сумму можно переписать в виде произведения двух векторов\n",
    "$$\n",
    "y^1 = \\overline{x}^1\\cdot\\overline{w} \\\\\n",
    "y^2 = \\overline{x}^2\\cdot\\overline{w} \\\\\n",
    "y^3 = \\overline{x}^3\\cdot\\overline{w} \\\\\n",
    "y^4 = \\overline{x}^4\\cdot\\overline{w} \\\\\n",
    "$$"
   ]
  },
  {
   "cell_type": "markdown",
   "metadata": {},
   "source": [
    "**Шаг 4** Мы переписали каждую сумму в виде умножения векторов. А теперь для для удобства записи мы перейдем к матричному умножению (подробнее посмотрите на  [википедии](https://ru.wikipedia.org/wiki/Умножение_матриц)):\n",
    "\n",
    "$$\n",
    "Y = X\\cdot\\overline{w}\n",
    "$$\n",
    "\n",
    "Двумерный массив (в машинном обучении он называется *матрица*) $X$ содержит 4 строки (по числу обучающих объектов) и 2 столбца (по числу фичей) и называется матрицей объекты - признаки."
   ]
  },
  {
   "cell_type": "markdown",
   "metadata": {},
   "source": [
    "Очень круто! Мы по шагам свернули большую формулу из чётырех строчек в одну строку как же нам это поможет? Оказывается, что решить нашу систему из пяти уравнений, математики вывели формулу, которая в векторно-матричном виде выглядит так:\n",
    "\n",
    "$$\n",
    "\\overline{w} = \\left(X^TX\\right)^{-1}X^TY\n",
    "$$\n",
    "\n",
    "Выглядит немного сложно! Но на самом деле совсем не сложно, давайте разберёмся на конкретном примере"
   ]
  },
  {
   "cell_type": "markdown",
   "metadata": {},
   "source": [
    "**Пример** Пусть у нас есть набок точек. Наш набор точек - это данные по виллам в Калифорнии, где $x$ - это площадь дома (наша единственная фича), а $y$ - цена дома (наша целевая переменная).\n",
    "\n",
    "$$\n",
    "\\left\\{\n",
    "\\begin{array}{ll}\n",
    "x_1=50, & y_1 = 10 \\\\\n",
    "x_1=60, & y_2 = 30 \\\\\n",
    "x_1=70, & y_1 = 40 \\\\\n",
    "x_1=100, & y_1 = 50 \\\\\n",
    "\\end{array}\n",
    "\\right.\n",
    "$$"
   ]
  },
  {
   "cell_type": "markdown",
   "metadata": {},
   "source": [
    "Визуализируем наши точки:"
   ]
  },
  {
   "cell_type": "code",
   "execution_count": 41,
   "metadata": {},
   "outputs": [
    {
     "data": {
      "image/png": "[encoded data removed]",
      "text/plain": [
       "<Figure size 432x288 with 1 Axes>"
      ]
     },
     "metadata": {
      "needs_background": "light"
     },
     "output_type": "display_data"
    }
   ],
   "source": [
    "from matplotlib import pyplot as plt\n",
    "\n",
    "%matplotlib inline\n",
    "\n",
    "plt.scatter([50, 60, 70, 100], [10, 30, 40, 50], 40, 'g', 'o', alpha=0.8)\n",
    "plt.show()"
   ]
  },
  {
   "cell_type": "markdown",
   "metadata": {},
   "source": [
    "Давайте выпишем матрицу $X$:"
   ]
  },
  {
   "cell_type": "code",
   "execution_count": 32,
   "metadata": {},
   "outputs": [
    {
     "data": {
      "text/plain": [
       "array([[  1,  50],\n",
       "       [  1,  60],\n",
       "       [  1,  70],\n",
       "       [  1, 100]])"
      ]
     },
     "execution_count": 32,
     "metadata": {},
     "output_type": "execute_result"
    }
   ],
   "source": [
    "import numpy as np\n",
    "\n",
    "X = np.array([[1, 50],[1, 60],[1, 70],[1, 100]])\n",
    "\n",
    "X"
   ]
  },
  {
   "cell_type": "markdown",
   "metadata": {},
   "source": [
    "Теперь вектор $Y$:"
   ]
  },
  {
   "cell_type": "code",
   "execution_count": 33,
   "metadata": {},
   "outputs": [
    {
     "data": {
      "text/plain": [
       "array([[10],\n",
       "       [30],\n",
       "       [40],\n",
       "       [50]])"
      ]
     },
     "execution_count": 33,
     "metadata": {},
     "output_type": "execute_result"
    }
   ],
   "source": [
    "Y = np.array([[10],[30],[40],[50]])\n",
    "\n",
    "Y"
   ]
  },
  {
   "cell_type": "markdown",
   "metadata": {},
   "source": [
    "Выписываем формулу по кусочкам. Сначала перемножим матрицу *объекты-признаки* саму на себя\n",
    "$$\n",
    "X^T\\cdot X\n",
    "$$"
   ]
  },
  {
   "cell_type": "code",
   "execution_count": 34,
   "metadata": {},
   "outputs": [
    {
     "data": {
      "text/plain": [
       "array([[    4,   280],\n",
       "       [  280, 21000]])"
      ]
     },
     "execution_count": 34,
     "metadata": {},
     "output_type": "execute_result"
    }
   ],
   "source": [
    "X_T_X = (X.T).dot(X)\n",
    "\n",
    "X_T_X"
   ]
  },
  {
   "cell_type": "markdown",
   "metadata": {},
   "source": [
    "Теперь найдём обратную матрицу к ней. Тут вручную прогграммировать ничего не надо - для нахождения обратной матрицы уже есть готовая реализация\n",
    "$$\n",
    "\\left(X^TX\\right)^{-1}\n",
    "$$"
   ]
  },
  {
   "cell_type": "code",
   "execution_count": 35,
   "metadata": {},
   "outputs": [
    {
     "data": {
      "text/plain": [
       "array([[ 3.75000000e+00, -5.00000000e-02],\n",
       "       [-5.00000000e-02,  7.14285714e-04]])"
      ]
     },
     "execution_count": 35,
     "metadata": {},
     "output_type": "execute_result"
    }
   ],
   "source": [
    "from numpy.linalg import inv\n",
    "\n",
    "X_T_X_inverted = inv(X_T_X)\n",
    "\n",
    "X_T_X_inverted"
   ]
  },
  {
   "cell_type": "markdown",
   "metadata": {},
   "source": [
    "Ну, осталось дописать формулу до конца\n",
    "$$\n",
    "\\left(X^TX\\right)^{-1}X^TY\n",
    "$$"
   ]
  },
  {
   "cell_type": "code",
   "execution_count": 36,
   "metadata": {},
   "outputs": [
    {
     "name": "stdout",
     "output_type": "stream",
     "text": [
      "w_1=-17.50000, w_2=0.714\n"
     ]
    }
   ],
   "source": [
    "w = X_T_X_inverted.dot(X.T).dot(Y)\n",
    "\n",
    "print(\"w_1=%.5f, w_2=%.3f\" % (w[0][0],w[1][0]))"
   ]
  },
  {
   "cell_type": "markdown",
   "metadata": {},
   "source": [
    "То есть наш набор из пяти точек прекрасно описывает прямая линия с уравнением $y = 17.5 + 0.714\\cdot x$. Давайте проверим это графически"
   ]
  },
  {
   "cell_type": "code",
   "execution_count": 38,
   "metadata": {},
   "outputs": [],
   "source": [
    "from matplotlib import pyplot as plt\n",
    "import numpy as np\n",
    "\n",
    "%matplotlib inline\n",
    "\n",
    "# вспомогательные вел\n",
    "margin = 10\n",
    "X_min = 20\n",
    "X_max = X[:,1].max()+margin\n",
    "\n",
    "# набор точек, чтобы нарисовать прямую\n",
    "X_support = np.linspace(X_min, X_max, num=100)\n",
    "# предсказания нашей модели\n",
    "Y_model = w[0][0] + w[1][0]*X_support"
   ]
  },
  {
   "cell_type": "markdown",
   "metadata": {},
   "source": [
    "Исходные данные подготовлены! Осталось нарисовать график"
   ]
  },
  {
   "cell_type": "code",
   "execution_count": 39,
   "metadata": {},
   "outputs": [
    {
     "data": {
      "image/png": "[encoded data removed]",
      "text/plain": [
       "<Figure size 432x288 with 1 Axes>"
      ]
     },
     "metadata": {
      "needs_background": "light"
     },
     "output_type": "display_data"
    }
   ],
   "source": [
    "# настройка графика \n",
    "plt.xlim(X_min, X_max)\n",
    "plt.ylim(0, Y[:,0].max() + margin)\n",
    "# рисуем исходные точки\n",
    "plt.scatter(X[:,1], Y[:,0], 40, 'g', 'o', alpha=0.8)\n",
    "# предсказания модели\n",
    "plt.plot(X_support, Y_model)\n",
    "\n",
    "plt.show()"
   ]
  },
  {
   "cell_type": "markdown",
   "metadata": {},
   "source": [
    "Готово! Получилось очень круто - на входе у нас только несколько точек и математическая формула. Подставляем наши точки в формулу - ничего себе, теперь мы можем предсказывать цену дома по его площади."
   ]
  },
  {
   "cell_type": "markdown",
   "metadata": {},
   "source": [
    "Обучение модели линейной регрессии сводится (в двумерном случае) к вычислению коэффициентов $a$ и $b$ таким образом, чтобы линия регрессии лежала ровно в центре нашего облака точек (пример - зависимость объёмов продаже мороженного от температуры воздуха):\n",
    "\n",
    "![least_squares_learning](https://248006.selcdn.ru/public/Data-science-4/img/least_squares_learning.png)"
   ]
  }
 ],
 "metadata": {
  "kernelspec": {
   "display_name": "Python 3",
   "language": "python",
   "name": "python3"
  },
  "language_info": {
   "codemirror_mode": {
    "name": "ipython",
    "version": 3
   },
   "file_extension": ".py",
   "mimetype": "text/x-python",
   "name": "python",
   "nbconvert_exporter": "python",
   "pygments_lexer": "ipython3",
   "version": "3.7.3"
  }
 },
 "nbformat": 4,
 "nbformat_minor": 2
}
