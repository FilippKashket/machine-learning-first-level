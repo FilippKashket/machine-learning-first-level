{
 "cells": [
  {
   "cell_type": "markdown",
   "metadata": {
    "colab_type": "text",
    "id": "5Ca6A52yRgN8"
   },
   "source": [
    "# Дополнительные техники классификации.\n",
    "# Урок 1. Boosting.\n",
    "\n",
    "Ранее мы уже упоминали, что существует такое понятие как *ансамбли алгоритмов* - метод, использующий одновременно несколько обучающих алгоритмов для получения лучшего результата по сравнению с результатами каждого из алгоритмов в отдельности. Этот метод базируется на интуитивном соображении, пришедшем из статистики, согласно которому усреднение результатов наблюдений может дать более устойчивую и надежную оценку, так как ослабляет влияние различных флуктуаций в отдельных измерениях.\n",
    "\n",
    "Большинство приемов в ансамблировании направлено на то, чтобы ансамбль был достаточно разнообразным, тогда ошибки одних алгоритмов будут компенсироваться корректной работой других.\n",
    "\n",
    "Алгоритмы, из которых состоит ансамбль, называются базовыми алгоритмами (base learners), а алгоритм, который комбинирует полученные ответы - мета-алгоритмом (meta-estimator). По сути, при построении ансамбля:\n",
    "\n",
    "1. повышают качество базовых алгоритмов\n",
    "2. повышают разнообразие базовых алгоритмов за счет:\n",
    "    - варьирования обучающей выборки (каждый алгоритм использует различные подвыборки исходной выборки)\n",
    "    - варьирования признаков (каждый алгоритм использует свой рандомный набор признаков)\n",
    "    - варьирования моделей (используются различные модели)\n",
    "    - варьирования в модели (использование различных гиперпараметров в рамках одного алгоритма)"
   ]
  },
  {
   "cell_type": "markdown",
   "metadata": {
    "colab_type": "text",
    "id": "SSAS0EfMRgN-"
   },
   "source": [
    "Вообще, существует достаточно много моделей ансамблирования: \n",
    "- голосование/усреднение ответов по независимым алгоритмам (например, *случайный лес*)\n",
    "- кодировка целевых значений и сведение решения задачи к решению нескольких задач (например, каждый класс может кодироваться бинарным кодом, а решение задачи многоклассовой классификации сводиться к решению нескольких задач бинарной классификации - метод *ECOC*)\n",
    "- построение суммы нескольких алгоритмов, где каждый следующий алгоритм строится с учетом ошибок предыдущих (*бустинг*)\n",
    "- построение метапризнаков - ответов базовых алгоритмов на выборке, обучение на них мета-алгоритма (*стекинг*)\n",
    "- однородные ансамбли (например, *нейронные сети*)\n",
    "\n",
    "Рассмотрим одни из самые популярных методов: **бустинг** и **стекинг**."
   ]
  },
  {
   "cell_type": "markdown",
   "metadata": {
    "colab_type": "text",
    "id": "5npQikQYRgN_"
   },
   "source": [
    "### Boosting (Бустинг)\n",
    "\n",
    "Главная идея бустинга - последовательное построение базовых алгоритмов, каждый из которых обучается, используя информацию об ошибках, сделанных на предыдущем этапе. Т.е. каждый следующий алгоритм мы строим таким образом, чтобы он исправлял ошибки предыдущих и повышал качество всего ансамбля. "
   ]
  },
  {
   "cell_type": "markdown",
   "metadata": {
    "colab_type": "text",
    "id": "uOw5zxb1RgOA"
   },
   "source": [
    "Первый успешный вариант бустинга - **AdaBoost (Adaptive Boosting)**. Основная идея состоит в том, что каждый следующий алгоритм строится, опираясь на объекты, неверно классифицированные предыдущими алгоритмами. Это достигается за счет того, что при построении каждого следующего алгоритма меняются веса объектов: объекты, которые классифицировались неверно, приобретают больший вес, а объекты, которые были определены правильно, - меньший. \n",
    "\n",
    "Подробно разбирать этот алгоритм не имеет смысла, так как его вытеснил градиентный бустинг: оказалось, что AdaBoost является его частной вариацией (что будет показано позднее).\n",
    "\n",
    "Наглядно алгоритм AdaBoost можно представить таким образом: пусть у нас имеются два класса, которые необходимо разделить, а в качестве базовых алгоритмов мы используем деревья решений глубины 1 (т.е. одно дерево может разделить данные только одной прямой линией по горизонтали или вертикали).\n",
    "\n",
    "![](https://248006.selcdn.ru/public/DS.%20Block%202.%20M9/AdaBoost_1.png) \n",
    "\n",
    "После обучения первого дерева мы получаем такой результат:\n",
    "\n",
    "![](https://248006.selcdn.ru/public/DS.%20Block%202.%20M9/AdaBoost_2.png)\n",
    "\n",
    "Видим, что веса объектов, на которых ошибся первый базовый алгоритм, увеличились, а веса тех, что были классифицированы правильно, уменьшились (на графике это передается с помощью размера точек).\n",
    "\n",
    "После обучения второго и третьего деревьев соответственно получаем:\n",
    "\n",
    "![](https://248006.selcdn.ru/public/DS.%20Block%202.%20M9/AdaBoost_3.png)\n",
    "![](https://248006.selcdn.ru/public/DS.%20Block%202.%20M9/AdaBoost_4.png)\n",
    "\n",
    "После того, как все базовые алгоритмы были обучены, AdaBoost строит финальную модель  путем суммирования произведений веса каждого дерева на его предсказание (т.е. на то, как дерево разделило классы).\n",
    "\n",
    "![](https://248006.selcdn.ru/public/DS.%20Block%202.%20M9/AdaBoost_5.png)\n",
    "\n",
    "Как видим, в таком варианте полученное разделение соответствует идеальной классификации."
   ]
  },
  {
   "cell_type": "markdown",
   "metadata": {
    "colab_type": "text",
    "id": "UiV6UcBdRgOA"
   },
   "source": [
    "**GradientBoosting**. Как понятно из названия, основан на понятии градиента: не вдаваясь в математические подробности, можно сказать, что градиент - это вектор, который направлен в сторону наискорейшего возрастания функции. Соответственно, антиградиент направлен в сторону наискорейшего убывания функции. \n",
    "\n",
    "Допустим, у нас есть выборка, состоящая из признаков *x* и целевых переменных *y*. Идея градиентного бустинга состоит в том, чтобы уменьшить ошибку предсказания классификатора $\\hat{y}$, т.е. уменьшить разность $(y - \\hat{y})$, чтобы она была как можно ближе к нулю. Для этой цели используется т.н. функция потерь, т.е. функция, которая характеризует потери при неправильном принятии решений (одну из них - логистическую функцию потерь - мы упоминали в одном из предыдущих уроков). Если обозначить ее как $L$, то искомую наименьшую разность можно переписать в виде $arg min_{\\hat{y}}\\ L(y, \\hat{y})$, а поиск этой наименьшей разности производится самым простым и часто используемым методом - градиентным спуском.\n",
    "\n",
    "Заметим, что, исходя из использования градиента, функция потерь должна быть дифференцируемой."
   ]
  },
  {
   "cell_type": "markdown",
   "metadata": {
    "colab_type": "text",
    "id": "8U9MOuUGRgOB"
   },
   "source": [
    "Теперь разберемся с тем, какие функции потерь мы можем использовать в задаче классификации. Так как оптимизировать сами метки класса довольно затруднительно, обычно используют пороговые значения, когда $\\hat{y} \\in \\{-1, 1\\}$. Наиболее известные функции потерь в классификации:\n",
    "- Logistic loss или логистическая функция потерь: $L(y, \\hat{y}) = log(1 + exp(-y \\hat{y}))$ - самая используемая функция потерь в бинарной классификации;\n",
    "- AdaBoost loss: $L(y, \\hat{y}) = exp(-y \\hat{y})$. Здесь нужно вспомнить про алгоритм AdaBoost: так получилось, что он эквивалентен методу градиентного бустинга с этой функцией потерь. Эта функция имеет более жесткий штраф по отношению к ошибкам классификации и используется реже.\n",
    "\n",
    "В качестве базовых алгоритмов здесь обычно используются решающие деревья. При этом решающие деревья выбираются неглубокими: глубина варьируется от 2 до 7. Этого вполне достаточно, чтобы восстановить сложные закономерности с помощью бустинга."
   ]
  },
  {
   "cell_type": "markdown",
   "metadata": {
    "colab_type": "text",
    "id": "egWmmxx_RgOC"
   },
   "source": [
    "Еще одна эффективная вариация градиентного бустинга на деревьях решений - **XGBoost (eXtreme Gradient Boosting)**. Модель представлена отдельной одноименной библиотекой. По сравнению с классическим градиентным бустингом, в данной реализации больше возможностей для регуляризации базовых решающих деревьев и задачи бустинга в целом. Выделяют три группы параметров:\n",
    "- общие параметры, отвечающие за выбор базового алгоритма и распараллеливание;\n",
    "- параметры базового алгоритма решающих деревьев: скорость обучения (чем ниже, тем больше итераций нужно для обучения модели с хорошим качеством), максимальная глубина дерева, минимальное необходимое число объектов в каждом листе, доля выборки для обучения каждого дерева, доля признаков для каждого дерева, коэффициенты перед L1- и L2-регуляризаторами функции потерь;\n",
    "- параметры задачи обучения: используемая при обучении функция потерь, метрика качества на валидационной выборке, параметр воспрозводимости."
   ]
  },
  {
   "cell_type": "markdown",
   "metadata": {
    "colab_type": "text",
    "id": "x0aFHoVMRgOC"
   },
   "source": [
    "Теперь перейдем к практике. Библиотека sklearn предоставляет нам готовую реализацию алгоритмов AdaBoost и GradientBoosting, а вот XGBoost придется импортировать из другой библиотеки."
   ]
  },
  {
   "cell_type": "code",
   "execution_count": 0,
   "metadata": {
    "colab": {},
    "colab_type": "code",
    "id": "TlePQZhxRgOD"
   },
   "outputs": [],
   "source": [
    "from sklearn.ensemble import AdaBoostClassifier, GradientBoostingClassifier\n",
    "from xgboost import XGBClassifier\n",
    "from sklearn.model_selection import cross_val_score"
   ]
  },
  {
   "cell_type": "markdown",
   "metadata": {
    "colab_type": "text",
    "id": "SEJYtdUjRgOG"
   },
   "source": [
    "Все рассмотренные методы являются композициями алгоритмов. Логично предположить, что их качество будет зависеть от количества базовых алгоритмов, над которыми они строятся. Давайте на примере этих алгоритмов проанализируем, как изменяется качество алгоритма в зависимости от количества деревьев, на которых он построен.\n",
    "\n",
    "Для демонстрации используем уже преобразованные в одном из предыдущих домашних заданий данные задачи из Kaggle - Titanic.\n",
    "\n",
    "Вспомним, как они выглядят."
   ]
  },
  {
   "cell_type": "code",
   "execution_count": 0,
   "metadata": {
    "colab": {},
    "colab_type": "code",
    "id": "3xWDpBICRgOH",
    "outputId": "7a096549-53e4-4a07-8414-292bbe195ec0"
   },
   "outputs": [
    {
     "data": {
      "text/html": [
       "<div>\n",
       "<style scoped>\n",
       "    .dataframe tbody tr th:only-of-type {\n",
       "        vertical-align: middle;\n",
       "    }\n",
       "\n",
       "    .dataframe tbody tr th {\n",
       "        vertical-align: top;\n",
       "    }\n",
       "\n",
       "    .dataframe thead th {\n",
       "        text-align: right;\n",
       "    }\n",
       "</style>\n",
       "<table border=\"1\" class=\"dataframe\">\n",
       "  <thead>\n",
       "    <tr style=\"text-align: right;\">\n",
       "      <th></th>\n",
       "      <th>Survived</th>\n",
       "      <th>Pclass</th>\n",
       "      <th>Sex</th>\n",
       "      <th>Age</th>\n",
       "      <th>SibSp</th>\n",
       "      <th>Parch</th>\n",
       "      <th>Fare</th>\n",
       "      <th>Embarked</th>\n",
       "    </tr>\n",
       "  </thead>\n",
       "  <tbody>\n",
       "    <tr>\n",
       "      <th>0</th>\n",
       "      <td>0</td>\n",
       "      <td>3</td>\n",
       "      <td>1</td>\n",
       "      <td>22.0</td>\n",
       "      <td>1</td>\n",
       "      <td>0</td>\n",
       "      <td>7.2500</td>\n",
       "      <td>1</td>\n",
       "    </tr>\n",
       "    <tr>\n",
       "      <th>1</th>\n",
       "      <td>1</td>\n",
       "      <td>1</td>\n",
       "      <td>0</td>\n",
       "      <td>38.0</td>\n",
       "      <td>1</td>\n",
       "      <td>0</td>\n",
       "      <td>71.2833</td>\n",
       "      <td>2</td>\n",
       "    </tr>\n",
       "    <tr>\n",
       "      <th>2</th>\n",
       "      <td>1</td>\n",
       "      <td>3</td>\n",
       "      <td>0</td>\n",
       "      <td>26.0</td>\n",
       "      <td>0</td>\n",
       "      <td>0</td>\n",
       "      <td>7.9250</td>\n",
       "      <td>1</td>\n",
       "    </tr>\n",
       "    <tr>\n",
       "      <th>3</th>\n",
       "      <td>1</td>\n",
       "      <td>1</td>\n",
       "      <td>0</td>\n",
       "      <td>35.0</td>\n",
       "      <td>1</td>\n",
       "      <td>0</td>\n",
       "      <td>53.1000</td>\n",
       "      <td>1</td>\n",
       "    </tr>\n",
       "    <tr>\n",
       "      <th>4</th>\n",
       "      <td>0</td>\n",
       "      <td>3</td>\n",
       "      <td>1</td>\n",
       "      <td>35.0</td>\n",
       "      <td>0</td>\n",
       "      <td>0</td>\n",
       "      <td>8.0500</td>\n",
       "      <td>1</td>\n",
       "    </tr>\n",
       "  </tbody>\n",
       "</table>\n",
       "</div>"
      ],
      "text/plain": [
       "   Survived  Pclass  Sex   Age  SibSp  Parch     Fare  Embarked\n",
       "0         0       3    1  22.0      1      0   7.2500         1\n",
       "1         1       1    0  38.0      1      0  71.2833         2\n",
       "2         1       3    0  26.0      0      0   7.9250         1\n",
       "3         1       1    0  35.0      1      0  53.1000         1\n",
       "4         0       3    1  35.0      0      0   8.0500         1"
      ]
     },
     "execution_count": 2,
     "metadata": {
      "tags": []
     },
     "output_type": "execute_result"
    }
   ],
   "source": [
    "import pandas as pd\n",
    "import numpy as np\n",
    "\n",
    "titanic = pd.read_csv('titanic.csv')\n",
    "titanic.head()"
   ]
  },
  {
   "cell_type": "markdown",
   "metadata": {
    "colab_type": "text",
    "id": "X24ZZenaRgOL"
   },
   "source": [
    "Сразу отделим целевую переменную Survived. На тренировочный и тестовый датасеты данные разделять не будем - сделаем проверку производительности на кросс-валидации."
   ]
  },
  {
   "cell_type": "code",
   "execution_count": 0,
   "metadata": {
    "colab": {},
    "colab_type": "code",
    "id": "Wp1XCWAGRgOM"
   },
   "outputs": [],
   "source": [
    "targets = titanic.Survived\n",
    "data = titanic.drop(columns='Survived')"
   ]
  },
  {
   "cell_type": "markdown",
   "metadata": {
    "colab_type": "text",
    "id": "e4FoYRCgRgOO"
   },
   "source": [
    "Зададим количество деревьев в алгоритме: 1, а далее от 10 до 100 с шагом 10. В алгоритме за этот гиперпараметр отвечает n_estimtors."
   ]
  },
  {
   "cell_type": "code",
   "execution_count": 0,
   "metadata": {
    "colab": {},
    "colab_type": "code",
    "id": "wtLnPhCURgOO"
   },
   "outputs": [],
   "source": [
    "trees = [1] + list(range(10, 100, 10))"
   ]
  },
  {
   "cell_type": "markdown",
   "metadata": {
    "colab_type": "text",
    "id": "ObWi2FWsRgOR"
   },
   "source": [
    "Теперь последовательно обучим алгоритмы AdaBoost, GradientBoosting и XGBoost и проверим на трехкратной кросс-валидации, как изменяется точность классификаторов в зависимости от количества базовых алгоритмов. Заодно посмотрим на время обучения каждого из алгоритмов."
   ]
  },
  {
   "cell_type": "code",
   "execution_count": 0,
   "metadata": {
    "colab": {},
    "colab_type": "code",
    "id": "gzQ3gryFRgOR",
    "outputId": "669a1be7-9bb1-4cb1-a164-25228ab1d144"
   },
   "outputs": [
    {
     "name": "stdout",
     "output_type": "stream",
     "text": [
      "CPU times: user 2.38 s, sys: 6.71 ms, total: 2.39 s\n",
      "Wall time: 2.38 s\n"
     ]
    }
   ],
   "source": [
    "%%time\n",
    "\n",
    "ada_scoring = []\n",
    "for tree in trees:\n",
    "    ada = AdaBoostClassifier(n_estimators=tree)\n",
    "    score = cross_val_score(ada, data, targets, scoring='roc_auc', cv=3)\n",
    "    ada_scoring.append(score)\n",
    "ada_scoring = np.asmatrix(ada_scoring)"
   ]
  },
  {
   "cell_type": "code",
   "execution_count": 0,
   "metadata": {
    "colab": {},
    "colab_type": "code",
    "id": "W4yTAyzMRgOU",
    "outputId": "12a1c9d1-ac44-4419-c91f-773681ee2c5d"
   },
   "outputs": [
    {
     "data": {
      "text/plain": [
       "matrix([[0.77164222, 0.78587863, 0.7430975 ],\n",
       "        [0.79997124, 0.85557473, 0.86624005],\n",
       "        [0.80560349, 0.85092513, 0.88447896],\n",
       "        [0.79925223, 0.84766561, 0.88562937],\n",
       "        [0.80236794, 0.84502924, 0.87553926],\n",
       "        [0.80059438, 0.8420094 , 0.87553926],\n",
       "        [0.80040265, 0.84112262, 0.88050043],\n",
       "        [0.80136133, 0.84210526, 0.88203432],\n",
       "        [0.80299108, 0.84385486, 0.87340619],\n",
       "        [0.8038539 , 0.84450197, 0.87824753]])"
      ]
     },
     "execution_count": 6,
     "metadata": {
      "tags": []
     },
     "output_type": "execute_result"
    }
   ],
   "source": [
    "ada_scoring"
   ]
  },
  {
   "cell_type": "code",
   "execution_count": 0,
   "metadata": {
    "colab": {},
    "colab_type": "code",
    "id": "KN6rd3yiRgOW",
    "outputId": "257daac9-9f20-453a-d7f4-266416411056"
   },
   "outputs": [
    {
     "name": "stdout",
     "output_type": "stream",
     "text": [
      "CPU times: user 1.28 s, sys: 3.74 ms, total: 1.28 s\n",
      "Wall time: 1.28 s\n"
     ]
    }
   ],
   "source": [
    "%%time\n",
    "\n",
    "gbc_scoring = []\n",
    "for tree in trees:\n",
    "    gbc = GradientBoostingClassifier(n_estimators=tree)\n",
    "    score = cross_val_score(gbc, data, targets, scoring='roc_auc', cv=3)\n",
    "    gbc_scoring.append(score)\n",
    "gbc_scoring = np.asmatrix(gbc_scoring)"
   ]
  },
  {
   "cell_type": "code",
   "execution_count": 0,
   "metadata": {
    "colab": {},
    "colab_type": "code",
    "id": "2LpKEL7GRgOY",
    "outputId": "ff661fa8-45e4-45bc-b5a4-848e04d50d9b"
   },
   "outputs": [
    {
     "data": {
      "text/plain": [
       "matrix([[0.81430352, 0.84991851, 0.87491612],\n",
       "        [0.81763493, 0.87117726, 0.88677979],\n",
       "        [0.83158374, 0.87364586, 0.88179465],\n",
       "        [0.81703576, 0.8781996 , 0.8825616 ],\n",
       "        [0.81777874, 0.87407727, 0.88186655],\n",
       "        [0.81451922, 0.87103346, 0.88730707],\n",
       "        [0.81399195, 0.86930783, 0.88349631],\n",
       "        [0.81003739, 0.87017065, 0.88117151],\n",
       "        [0.80982169, 0.87146486, 0.87635414],\n",
       "        [0.81380021, 0.87192024, 0.87496405]])"
      ]
     },
     "execution_count": 8,
     "metadata": {
      "tags": []
     },
     "output_type": "execute_result"
    }
   ],
   "source": [
    "gbc_scoring"
   ]
  },
  {
   "cell_type": "code",
   "execution_count": 0,
   "metadata": {
    "colab": {},
    "colab_type": "code",
    "id": "lW0xWu9bRgOb",
    "outputId": "99ff3f6f-948b-488d-d8b4-a87ef18ba995"
   },
   "outputs": [
    {
     "name": "stdout",
     "output_type": "stream",
     "text": [
      "CPU times: user 655 ms, sys: 7.99 ms, total: 663 ms\n",
      "Wall time: 659 ms\n"
     ]
    }
   ],
   "source": [
    "%%time\n",
    "\n",
    "xgb_scoring = []\n",
    "for tree in trees:\n",
    "    xgb = XGBClassifier(n_estimators=tree)\n",
    "    score = cross_val_score(xgb, data, targets, scoring='roc_auc', cv=3)\n",
    "    xgb_scoring.append(score)\n",
    "xgb_scoring = np.asmatrix(xgb_scoring)"
   ]
  },
  {
   "cell_type": "code",
   "execution_count": 0,
   "metadata": {
    "colab": {},
    "colab_type": "code",
    "id": "QreZ7sKZRgOd",
    "outputId": "8ba4d25a-db8c-44c8-eeb3-9c83cafe03e7"
   },
   "outputs": [
    {
     "data": {
      "text/plain": [
       "matrix([[0.82019941, 0.84713834, 0.87673761],\n",
       "        [0.81288946, 0.87072189, 0.88711533],\n",
       "        [0.82842009, 0.87208801, 0.88359218],\n",
       "        [0.82504074, 0.87206404, 0.88809798],\n",
       "        [0.82707794, 0.871369  , 0.88613268],\n",
       "        [0.82616719, 0.87201611, 0.88100374],\n",
       "        [0.82401016, 0.87053015, 0.88337647],\n",
       "        [0.82139776, 0.86834915, 0.88311284],\n",
       "        [0.82264404, 0.86887643, 0.88618062],\n",
       "        [0.82329115, 0.86856485, 0.88618062]])"
      ]
     },
     "execution_count": 10,
     "metadata": {
      "tags": []
     },
     "output_type": "execute_result"
    }
   ],
   "source": [
    "xgb_scoring"
   ]
  },
  {
   "cell_type": "markdown",
   "metadata": {
    "colab_type": "text",
    "id": "y8dgXHzWRgOf"
   },
   "source": [
    "На первый взгляд алгоритмы работают практически идентично. Теперь посмотрим на графике, так ли это. Обратите внимание на то, что алгоритм XGBoost работает в 2 раза быстрее, чем GradienBoosting, и почти в 4 раза быстрее, чем AdaBoost."
   ]
  },
  {
   "cell_type": "code",
   "execution_count": 0,
   "metadata": {
    "colab": {},
    "colab_type": "code",
    "id": "V9Ve-rGBRgOg",
    "outputId": "84845941-ca6d-4f90-a524-f47f9ea3b865"
   },
   "outputs": [
    {
     "data": {
      "text/plain": [
       "<matplotlib.legend.Legend at 0x7fef77ed94e0>"
      ]
     },
     "execution_count": 11,
     "metadata": {
      "tags": []
     },
     "output_type": "execute_result"
    },
    {
     "data": {
      "image/png": "[encoded data removed]",
      "text/plain": [
       "<Figure size 432x288 with 1 Axes>"
      ]
     },
     "metadata": {
      "tags": []
     },
     "output_type": "display_data"
    }
   ],
   "source": [
    "import matplotlib.pyplot as plt\n",
    "\n",
    "%matplotlib inline\n",
    "\n",
    "plt.plot(trees, ada_scoring.mean(axis=1), label='AdaBoost')\n",
    "plt.plot(trees, gbc_scoring.mean(axis=1), label='GradientBoosting')\n",
    "plt.plot(trees, xgb_scoring.mean(axis=1), label='XGBoost')\n",
    "plt.grid(True)\n",
    "plt.xlabel('trees')\n",
    "plt.ylabel('auc score')\n",
    "plt.legend(loc='lower right')"
   ]
  },
  {
   "cell_type": "markdown",
   "metadata": {
    "colab_type": "text",
    "id": "l1k9jOcuRgOi"
   },
   "source": [
    "Видим ожидаемую картину: при одном дереве качество работы алгоритма было ниже, чем с увеличением количества деревьев, однако все модели показывают наиболее высокое качество примерно у отметки в 20 базовых деревьев. Вообще, в бустинге увеличение числа деревьев не всегда приводит к улучшению качества решения на тестовых данных. Число деревьев, при котором качество алгоритма максимально, зависит от темпа обучения: чем меньше темп, тем больше деревьев обычно нужно (отметим, что зависимость нелинейная).\n",
    "\n",
    "Также, как видно по графику, алгоритм XGBoost работает не только быстрее, но и несколько лучше. Это достигается за счет того, что у него больше преднастроенных гиперпараметров и он лучше оптимизирован."
   ]
  }
 ],
 "metadata": {
  "colab": {
   "name": "jun_ml_extra_tech_boost.ipynb",
   "provenance": []
  },
  "kernelspec": {
   "display_name": "Python 3",
   "language": "python",
   "name": "python3"
  },
  "language_info": {
   "codemirror_mode": {
    "name": "ipython",
    "version": 3
   },
   "file_extension": ".py",
   "mimetype": "text/x-python",
   "name": "python",
   "nbconvert_exporter": "python",
   "pygments_lexer": "ipython3",
   "version": "3.7.3"
  }
 },
 "nbformat": 4,
 "nbformat_minor": 1
}
